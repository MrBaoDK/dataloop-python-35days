{
 "cells": [
  {
   "cell_type": "markdown",
   "id": "106a0aea-d8ae-45b3-9a8d-c6c16d3f2d62",
   "metadata": {},
   "source": [
    "# Day 2: Python Variables\n",
    "\n",
    "A variable is a named location used to store data in memory. It is a way of referring to the memory location used by a computer program. A variable can hold different types of values such as numbers, strings, lists, tuples, dictionaries, etc."
   ]
  },
  {
   "cell_type": "markdown",
   "id": "2051083f-f6c6-4f99-8966-547e32b89487",
   "metadata": {},
   "source": [
    "## Here are some key points about variables in Python:\n",
    "You can use the equals sign (=) to assign a value to a variable. For example, a = 10 assigns the value 10 to the variable a.\n",
    "\n",
    "When a variable is no longer needed, Python's garbage collector will eventually reclaim the memory it occupies, so you don't need to worry about deallocating memory yourself.\n",
    "\n",
    "An expression in Python is a piece of code that produces a value when evaluated. Expressions can include variables, literals (like numbers or strings), operators (like +, -, *, /, %, etc.), and function calls. The process of calculating the value of an expression is called evaluation.\n",
    "\n",
    "## Here are some examples of expressions in Python:\n",
    "2 + 3 is an expression that evaluates to 5.\n",
    "\n",
    "x * 2 is an expression that multiplies the value of the variable x by 2.\n",
    "\n",
    "\"Hello, \" + name is an expression that concatenates the string \"Hello, \" with the value of the variable name."
   ]
  },
  {
   "cell_type": "markdown",
   "id": "0d84ea37-7861-4b4e-a4e5-4ddd8c50e4af",
   "metadata": {},
   "source": [
    "In Python, slicing is a feature that enables accessing parts of sequences like strings, tuples, and lists. You can slice a sequence using the following syntax:\n",
    "\n",
    "`sequence[start:stop:step]`\n",
    "\n",
    "Here's what start, stop, and step mean:\n",
    "\n",
    "- start: The beginning index where the slice starts. If not provided, it will start from the beginning of the sequence.\n",
    "\n",
    "- stop: The ending index where the slice stops. This index is not included in the slice. If not provided, it will end at the last item of the sequence.\n",
    "\n",
    "- step: It is an optional argument that determines the increment between each index for slicing. If not provided, the default step is 1."
   ]
  },
  {
   "cell_type": "markdown",
   "id": "0c25dc1b-9be6-46ac-87f5-cfaaa65370a8",
   "metadata": {},
   "source": [
    "## Practices"
   ]
  },
  {
   "cell_type": "markdown",
   "id": "7a70803c-3bf1-4019-b68f-1d535b41f27f",
   "metadata": {},
   "source": [
    "1. What is the correct way to assign the value 10 to a variable named 'number' in Python?\n",
    "- `number == 10`\n",
    "- `int number = 10`\n",
    "- `10 = number`\n",
    "- **`number = 10`**\n",
    " \n",
    " \n",
    "2. Which of these is NOT a valid variable name in Python?\n",
    "- `_variable1`\n",
    "- `my_variable`\n",
    "- `variable_Name`\n",
    "- ~`1st_variable`~\n",
    " \n",
    " \n",
    "3. What will the following code print?\n",
    "\n",
    "   ![Captionless Image](https://lh3.googleusercontent.com/jTQTMMkgyhRU32GvJJM_sZh-eo3JsHjqCBddUf72sxTw1w1WlCX_1wu3voJV64hyNeWLcmzA81yWyykYtZuLI_6AgH3ToE_XgjsJr67BWLQgmMdpLBeE80UU1-Zc2_d3Ng=w740)\n",
    "- `10`\n",
    "- `x`\n",
    "- **`5`**\n",
    "- `y`\n",
    " "
   ]
  },
  {
   "cell_type": "code",
   "execution_count": 1,
   "id": "fbf20d64-5f32-42b1-b913-af9b63b2a92f",
   "metadata": {},
   "outputs": [
    {
     "name": "stdout",
     "output_type": "stream",
     "text": [
      "5\n"
     ]
    }
   ],
   "source": [
    "x = 5\n",
    "y = x\n",
    "x = 10\n",
    "print(y)"
   ]
  },
  {
   "cell_type": "markdown",
   "id": "e1d56434-e3f2-4a93-835c-de2a883e53ff",
   "metadata": {},
   "source": [
    "4.  Which statement correctly demonstrates how to update a variable 'count' by adding 5 to its current value?\n",
    "- **`count += 5`**\n",
    "- `count + 5`\n",
    "- **`count = count + 5`**\n",
    "- `count = 5`\n",
    " \n",
    "5. What will happen if you try to access a variable before it has been assigned a value?\n",
    "- Python will assign it a default value of 0.\n",
    "- The program will continue running without any issues.\n",
    "- Python will prompt the user to enter a value for the variable.\n",
    "- **Python will raise a NameError.**\n",
    " \n",
    "6. What is the difference between the statements `x = 10` and `x == 10`?\n",
    "- They are the same; both assign the value 10 to x.\n",
    "- The first assigns the string \"10\" to x, the second assigns the integer 10 to x.\n",
    "- The first checks if x is equal to 10, the second assigns 10 to x.\n",
    "- **The first assigns 10 to x, the second checks if x is equal to 10.**\n",
    " \n",
    " \n",
    "7. Which of the following correctly extracts the characters \"ello\" from the string word = \"Hello\" using slicing?\n",
    "- `word[1:4]`\n",
    "- `word[0:4]`\n",
    "- **`word[1:5]`**\n",
    "- `word[2:6]`\n",
    " \n",
    "8. What is the output of the following code?\n",
    "\n",
    "![Captionless Image](https://lh4.googleusercontent.com/RBVYFxMEh2-ARfUx7WonZbUHTCV3kulMOW6Numgs5qA9UZbZjt9pvP_6XYzrHn_rK-Uu9ujNegWSbtrcsEUPfn9hvFrPu7agofYnGwTWR4UKBeeCa8Mz75zL5jkAWj6R_w=w740)\n",
    "- `Python isawesome!`\n",
    "- **`Python is awesome!`**\n",
    "- `phrase + awesome`\n",
    "- An error will occur.\n",
    " "
   ]
  },
  {
   "cell_type": "code",
   "execution_count": 2,
   "id": "9676694f-4a66-4308-a26e-54951920bfd9",
   "metadata": {},
   "outputs": [
    {
     "name": "stdout",
     "output_type": "stream",
     "text": [
      "Python is awesome!\n"
     ]
    }
   ],
   "source": [
    "phrase = \"Python is \"\n",
    "awesome = \"awesome!\"\n",
    "print(phrase + awesome)"
   ]
  },
  {
   "cell_type": "markdown",
   "id": "3cf16b68-df10-44a2-8307-52eb13809d5e",
   "metadata": {},
   "source": [
    "9. Why is it generally NOT recommended to use single-letter variable names (like 'x', 'y', 'z') in larger programs?\n",
    "- It is not a valid practice in Python.\n",
    "- It slows down the program's execution.\n",
    "- **It makes the code less readable and harder to understand.**\n",
    "- It can cause conflicts with Python's built-in functions.\n",
    " \n",
    "10. What will the following code print?\n",
    "\n",
    "![Captionless Image](https://lh4.googleusercontent.com/7xa_bWEFuBelQU9JV0oqxvDLcxZuvKYk0z7ib6LuEHLLDwfDpw1SlMGy6vGCJPAFYMMsm1SStT9sD7o1sgf6m64H7gH9TfgC9GfFu57gDv_uYn00oabgtcYSt0LmaRmNbQ=w740)\n",
    "- HelloQuizzy!\n",
    "- Hello,name!\n",
    "- **Hello, Quizzy!**\n",
    "- greeting, name!\n",
    " "
   ]
  },
  {
   "cell_type": "code",
   "execution_count": 3,
   "id": "ca8ddf2f-ebb5-4d9a-963f-d9aa067f5476",
   "metadata": {},
   "outputs": [
    {
     "name": "stdout",
     "output_type": "stream",
     "text": [
      "Hello, Quizzy!\n"
     ]
    }
   ],
   "source": [
    "greeting = \"Hello\"\n",
    "name = \"Quizzy\"\n",
    "print(greeting + \", \" + name + \"!\")"
   ]
  },
  {
   "cell_type": "markdown",
   "id": "09a806dd-74a1-49c8-874f-fe7ae9e2e117",
   "metadata": {},
   "source": [
    "[BONUS]. What does the slice `word[::-1]` do to a string assigned to the variable `word`?\n",
    "1/1\n",
    "- **Reverses the string.**\n",
    "- Extracts the last character of the string.\n",
    "- Extracts the first character of the string.\n",
    "- Creates a copy of the string."
   ]
  },
  {
   "cell_type": "code",
   "execution_count": null,
   "id": "54cbe97b-c623-415f-bd5e-d84d26c03fa3",
   "metadata": {},
   "outputs": [],
   "source": []
  }
 ],
 "metadata": {
  "kernelspec": {
   "display_name": "Python 3 (ipykernel)",
   "language": "python",
   "name": "python3"
  },
  "language_info": {
   "codemirror_mode": {
    "name": "ipython",
    "version": 3
   },
   "file_extension": ".py",
   "mimetype": "text/x-python",
   "name": "python",
   "nbconvert_exporter": "python",
   "pygments_lexer": "ipython3",
   "version": "3.12.3"
  }
 },
 "nbformat": 4,
 "nbformat_minor": 5
}
