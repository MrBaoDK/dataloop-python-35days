{
 "cells": [
  {
   "cell_type": "markdown",
   "id": "c63cfb09-8023-4f88-8d86-6f61b25fb083",
   "metadata": {},
   "source": [
    "# Day 8 Operators - Part 2"
   ]
  },
  {
   "cell_type": "markdown",
   "id": "71344a82-cdbf-4bd7-9b06-d475808f9d64",
   "metadata": {},
   "source": [
    "## Membership operators test whether a value is a member of a sequence, such as a string, list, or tuple.\n",
    "- `in`: Evaluates to true if it finds a variable in the specified sequence and false otherwise.\n",
    "\n",
    "- `not in`: Evaluates to true if it does not find a variable in the specified sequence and false otherwise."
   ]
  },
  {
   "cell_type": "markdown",
   "id": "9f08f4b3-03d1-4e54-b1ad-210300aedf09",
   "metadata": {},
   "source": [
    "## Assignment operators are used to assign values to variables.\n",
    "- `=`: Assigns values from the right side operands to the left side operand.\n",
    "\n",
    "- `+=`, `-=`, `=`, `/=`, `%=`, `*=`, `//=`: These are compound assignment operators that perform an operation and then assign the result to the left operand. For example, x += 3 is equivalent to x = x + 3."
   ]
  },
  {
   "cell_type": "markdown",
   "id": "a2cf6844-d744-4a20-a36a-d06593fbb215",
   "metadata": {},
   "source": [
    "## Identity operators compare the memory locations of two objects.\n",
    "- `is`: Evaluates to true if the variables on either side of the operator point to the same object and false otherwise.\n",
    "\n",
    "- `is not`: Evaluates to false if the variables on either side of the operator point to the same object and true otherwise."
   ]
  },
  {
   "cell_type": "markdown",
   "id": "8c46f188-15e9-4a3f-920f-f8038b88e5ef",
   "metadata": {},
   "source": [
    "## Bitwise operators act on operands as if they were strings of binary digits. They operate bit by bit, hence the name.\n",
    "- `&` (Bitwise AND): Takes two numbers as operands and does AND on every bit of two numbers. The result of AND is 1 only if both bits are 1.\n",
    "\n",
    "- `|` (Bitwise OR): Takes two numbers as operands and does OR on every bit of two numbers. The result of OR is 1 if any of the two bits is 1.\n",
    "\n",
    "- `^` (Bitwise XOR): Takes two numbers as operands and does XOR on every bit of two numbers. The result of XOR is 1 if the two bits are different.\n",
    "\n",
    "- `~` (Bitwise NOT): Takes one number and inverts all bits of it.\n",
    "\n",
    "- `<<` (Bitwise Left Shift): The left operands value is moved left by the number of bits specified by the right operand.\n",
    "\n",
    "- `>>` (Bitwise Right Shift): The left operands value is moved right by the number of bits specified by the right operand."
   ]
  },
  {
   "cell_type": "markdown",
   "id": "f04bb81d-85e5-4171-9137-3de340fa1b44",
   "metadata": {},
   "source": [
    "## Practices\n"
   ]
  },
  {
   "cell_type": "markdown",
   "id": "5ccc1247-f392-46c6-859c-5d33647d6a06",
   "metadata": {},
   "source": [
    "What will be the output of the following code?\n",
    "```python\n",
    "x = 5\n",
    "y = 3\n",
    "x += y\n",
    "print(x)\n",
    "```\n",
    "- 3\n",
    "- **8**\n",
    "- 5\n",
    "- 15"
   ]
  },
  {
   "cell_type": "code",
   "execution_count": 2,
   "id": "d52f68f1-b761-4c05-8d33-e58d34abce31",
   "metadata": {},
   "outputs": [
    {
     "name": "stdout",
     "output_type": "stream",
     "text": [
      "8\n"
     ]
    }
   ],
   "source": [
    "x = 5\n",
    "y = 3\n",
    "x += y\n",
    "print(x)"
   ]
  },
  {
   "cell_type": "markdown",
   "id": "18088894-fd1d-48e1-ab58-5cb54d76ec43",
   "metadata": {},
   "source": [
    "2. Which of the following is a membership operator in Python?\n",
    "- **`in`**\n",
    "- `&`\n",
    "- `==`\n",
    "- `or`\n",
    "\n",
    "3. What will be the result of the following code?\n",
    "```python\n",
    "a = 10\n",
    "b = 4\n",
    "c = a | b\n",
    "print(c)\n",
    "```\n",
    "- 2\n",
    "- 4\n",
    "- **14**\n",
    "- 10"
   ]
  },
  {
   "cell_type": "code",
   "execution_count": 3,
   "id": "f71ca0e7-766b-422d-b598-aa57f9ac5387",
   "metadata": {},
   "outputs": [
    {
     "name": "stdout",
     "output_type": "stream",
     "text": [
      "14\n"
     ]
    }
   ],
   "source": [
    "a = 10\n",
    "b = 4\n",
    "c = a | b\n",
    "print(c)"
   ]
  },
  {
   "cell_type": "markdown",
   "id": "a5cf68b4-6eb8-4bb9-ad0e-d23cb39c1973",
   "metadata": {},
   "source": [
    "4. Which of the following is an assignment operator in Python?\n",
    "\n",
    "- `in`\n",
    "- `<=`\n",
    "- `==`\n",
    "- **`+=`**\n",
    "\n",
    "5. What will be the result of the following code?\n",
    "```python\n",
    "lst = [1, 2, 3, 4, 5]\n",
    "print(3 in lst)\n",
    "```\n",
    "- False\n",
    "- **True**\n",
    "- None\n",
    "- Error"
   ]
  },
  {
   "cell_type": "code",
   "execution_count": 4,
   "id": "fdd8ed7a-eaab-426e-b440-acb0b957782a",
   "metadata": {},
   "outputs": [
    {
     "name": "stdout",
     "output_type": "stream",
     "text": [
      "True\n"
     ]
    }
   ],
   "source": [
    "lst = [1, 2, 3, 4, 5]\n",
    "print(3 in lst)"
   ]
  },
  {
   "cell_type": "markdown",
   "id": "a44565af-e57b-4dec-bb91-89a5c4b417b9",
   "metadata": {},
   "source": [
    "6. What will be the output of the following code?\n",
    "```python\n",
    "a = 5\n",
    "b = 2\n",
    "a *= b + 3\n",
    "print(a)\n",
    "```\n",
    "- 35\n",
    "- 15\n",
    "- 10\n",
    "- **25**"
   ]
  },
  {
   "cell_type": "code",
   "execution_count": 5,
   "id": "1a03103e-494d-4254-a6f8-9da5365d0e73",
   "metadata": {},
   "outputs": [
    {
     "name": "stdout",
     "output_type": "stream",
     "text": [
      "25\n"
     ]
    }
   ],
   "source": [
    "a = 5\n",
    "b = 2\n",
    "a *= b + 3\n",
    "print(a)"
   ]
  },
  {
   "cell_type": "markdown",
   "id": "f2402caf-93b6-4c9f-9cb6-69fef8e338d8",
   "metadata": {},
   "source": [
    "7. What will be the output of the following code?\n",
    "```python\n",
    "a = 6\n",
    "b = 3\n",
    "a %= b\n",
    "print(a)\n",
    "```\n",
    "- **0**\n",
    "- 2\n",
    "- 3\n",
    "- 1"
   ]
  },
  {
   "cell_type": "code",
   "execution_count": 6,
   "id": "3eeecad0-6794-4dc4-ad0f-2cf72b5262e8",
   "metadata": {},
   "outputs": [
    {
     "name": "stdout",
     "output_type": "stream",
     "text": [
      "0\n"
     ]
    }
   ],
   "source": [
    "a = 6\n",
    "b = 3\n",
    "a %= b\n",
    "print(a)"
   ]
  },
  {
   "cell_type": "markdown",
   "id": "3ff0ad25-a465-4e46-9f8e-c199e136941c",
   "metadata": {},
   "source": [
    "8. What will be the output of the following code?\n",
    "```python\n",
    "a = 10\n",
    "b = 4\n",
    "z = x & y\n",
    "print(z)\n",
    "```\n",
    "- 4\n",
    "- **0**\n",
    "- 6\n",
    "- 2"
   ]
  },
  {
   "cell_type": "code",
   "execution_count": 8,
   "id": "fdf66038-4062-49b8-af77-c6ca9c04644d",
   "metadata": {},
   "outputs": [
    {
     "name": "stdout",
     "output_type": "stream",
     "text": [
      "0\n"
     ]
    }
   ],
   "source": [
    "x = 10\n",
    "y = 4\n",
    "z = x & y\n",
    "print(z)"
   ]
  },
  {
   "cell_type": "markdown",
   "id": "4056089f-22c5-4aca-b8e3-46677772f7cb",
   "metadata": {},
   "source": [
    "9. What will be the output of the following code?\n",
    "```python\n",
    "a = 7\n",
    "b = 3\n",
    "a //= b\n",
    "print(a)\n",
    "```\n",
    "- **2**\n",
    "- 2.33\n",
    "- 1\n",
    "- 3"
   ]
  },
  {
   "cell_type": "code",
   "execution_count": 9,
   "id": "24382413-6212-434b-b093-c75321acacaa",
   "metadata": {},
   "outputs": [
    {
     "name": "stdout",
     "output_type": "stream",
     "text": [
      "2\n"
     ]
    }
   ],
   "source": [
    "a = 7\n",
    "b = 3\n",
    "a //= b\n",
    "print(a)"
   ]
  },
  {
   "cell_type": "markdown",
   "id": "52e87b58-4253-4a30-b498-d0e37b3b2e58",
   "metadata": {},
   "source": [
    "10. What will be the result of the following code?\n",
    "```python\n",
    "a = 8\n",
    "b = 2\n",
    "a **= b\n",
    "print(a)\n",
    "```\n",
    "- **64**\n",
    "- 256\n",
    "- 4\n",
    "- 16"
   ]
  },
  {
   "cell_type": "code",
   "execution_count": 11,
   "id": "8ccc65c2-c275-4c95-8b34-6680988175a0",
   "metadata": {},
   "outputs": [
    {
     "name": "stdout",
     "output_type": "stream",
     "text": [
      "64\n"
     ]
    }
   ],
   "source": [
    "a = 8\n",
    "b = 2\n",
    "a **= b\n",
    "print(a)"
   ]
  }
 ],
 "metadata": {
  "kernelspec": {
   "display_name": "Python 3 (ipykernel)",
   "language": "python",
   "name": "python3"
  },
  "language_info": {
   "codemirror_mode": {
    "name": "ipython",
    "version": 3
   },
   "file_extension": ".py",
   "mimetype": "text/x-python",
   "name": "python",
   "nbconvert_exporter": "python",
   "pygments_lexer": "ipython3",
   "version": "3.12.3"
  }
 },
 "nbformat": 4,
 "nbformat_minor": 5
}
