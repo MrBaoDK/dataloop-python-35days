{
 "cells": [
  {
   "cell_type": "markdown",
   "id": "2bcdf596-da7c-42d8-b7d6-3bf71e2f4b58",
   "metadata": {},
   "source": [
    "# Day 3 Data Types - Part 1\n",
    "\n",
    "Data Types are a classification (class object) that specifies which type of value a variable has and what operations can be applied to it.\n",
    "\n",
    "A string, for example, is a data type that is used to classify text and an integer is a data type used to classify whole numbers.\n",
    "\n",
    "\n",
    "\n",
    "Mutable vs Immutable:\n",
    "\n",
    "Mutable means “the ability of objects to change their values”.\n",
    "\n",
    "Immutable means it cannot be changed. Once created, the value of these objects is permanent.\n",
    "\n",
    "## There are 5 main classifications of data types in Python:\n",
    "\n",
    "- Numeric data types\n",
    "- Sequence types\n",
    "- Dictionary\n",
    "- \n",
    "\n",
    "### Numeric Data types are numbers\n",
    "\n",
    "1. Integer – whole numbers\n",
    "\n",
    "2. Float - decimals\n",
    "\n",
    "3. Complex – real + “imaginary” numbers\n",
    "\n",
    "Boolean:\n",
    "\n",
    "1. Boolean data types are either True or False\n",
    "\n",
    "2. Technically they’re a subtype of Numeric data, evaluating to 0 or 1\n",
    "\n",
    "3. They’re often used with Comparison or Logical Operators to determine the “truth” or “falsehood” of an expression\n",
    "\n",
    "### Sequence Type:\n",
    "\n",
    "Strings\n",
    "\n",
    "Lists\n",
    "\n",
    "Tuples \n",
    "\n",
    "Sequence data types values can be accessed via their index\n",
    "\n",
    "Lists are mutable, while Strings and Tuples are immutable\n",
    "\n",
    "Sets\n",
    "\n",
    "Set is an unordered collection of data type that is iterable, mutable and has no duplicate elements.\n",
    "\n",
    "Sets are good for comparing unique values to another set\n",
    "\n",
    "Cannot be accessed by Index\n",
    "\n",
    "\n",
    "\n",
    "### Dictionary\n",
    "\n",
    "Dictionary items are presented in key:value pairs which makes them unique from every other data type\n",
    "\n",
    "Values in a dictionary can be of any data type and can be duplicated, whereas keys can’t be repeated and must be immutable (strings, numbers, or tuples)."
   ]
  },
  {
   "cell_type": "markdown",
   "id": "33ae0e89-eaa4-4094-aee0-55c65e97256e",
   "metadata": {},
   "source": [
    "## Integers (int)\n",
    "Integers represent whole numbers, which can be positive, negative, or zero. Python's int type provides a flexible and efficient way to work with integers. Unlike some other programming languages, Python's integers can be arbitrarily large (or small), limited only by the available memory.\n",
    "```python\n",
    "x = 10\n",
    "y = -3\n",
    "z = 0\n",
    "```\n",
    "Python also supports binary (base 2), octal (base 8), and hexadecimal (base 16) representations of integers.\n",
    "\n",
    "\n",
    "## Floating-Point Numbers (float)\n",
    "Floating-point numbers, or simply floats, represent real numbers (i.e., numbers with a decimal point). They can be used to perform decimal calculations and represent fractional quantities.\n",
    "```python\n",
    "a = 3.14\n",
    "b = -0.01\n",
    "c = 1.5e2  # This is equivalent to 1.5 * 10^2 = 150\n",
    "```\n",
    "It's important to note that floating-point numbers may not always be exactly precise due to the way they are represented in computer memory. This can lead to small rounding errors in calculations.\n",
    "\n",
    "## Complex Numbers (complex)\n",
    "Complex numbers are numbers with a real part and an imaginary part. They are represented as a + bj in Python, where a is the real part and b is the imaginary part.\n",
    "```python\n",
    "d = 3 + 4j\n",
    "e = 1 - 2j\n",
    "```\n",
    "Complex numbers are used in specific fields, including engineering and physics. It is not super common to use for most programmers.\n",
    "\n",
    "## Working with Numeric Data Types\n",
    "Python provides a rich set of operators and functions to work with these numeric types. Standard arithmetic operations like addition (+), subtraction (-), multiplication (*), division (/), floor division (//), modulus (%), and exponentiation (**) can be used with these types.\n",
    "\n",
    "Python also provides built-in functions for numeric data, such as abs() to get the absolute value, round() to round a number, and complex() to create a complex number.\n",
    "\n",
    "## Boolean (bool)\n",
    "The Boolean (or bool) data type is a simple data type with two values: True and False.\n",
    "\n",
    "These values are particularly important when you want to check conditions. For example, you might have a piece of code that only runs when a certain condition is True, or you might want to check if a particular operation resulted in a False condition."
   ]
  },
  {
   "cell_type": "markdown",
   "id": "b5ef1569-fe4e-41bb-af8d-ea05e99383df",
   "metadata": {},
   "source": [
    "## Practices"
   ]
  },
  {
   "cell_type": "markdown",
   "id": "88700407-b87b-4480-8a6c-764bc1b682a0",
   "metadata": {},
   "source": [
    "1. What will be the output of the following code?\n",
    "\n",
    "![Captionless Image](https://lh4.googleusercontent.com/uUACw4xpKZY8W1ptHhf_8ObS0zBvbBobRKNZCbIEtz7ZOLooRxjOnNZNo8fpwNQAvpGk4nko8InxXrnBTmRsKRAkgSPlbpKbR3zH5SiqBZ_SN4h3_Pe0Q1FFj7H4nnbwPQ=w740)\n",
    "- <class 'bool'>\n",
    "- **<class 'int'>**\n",
    "- <class 'float'>\n",
    "- <class 'str'>"
   ]
  },
  {
   "cell_type": "code",
   "execution_count": 1,
   "id": "9ab748f9-c10e-44fe-9512-8f251b91cfd7",
   "metadata": {},
   "outputs": [
    {
     "name": "stdout",
     "output_type": "stream",
     "text": [
      "<class 'int'>\n"
     ]
    }
   ],
   "source": [
    "print(type(5))"
   ]
  },
  {
   "cell_type": "markdown",
   "id": "ed90316d-26c3-4259-b16c-1de925ee3ebe",
   "metadata": {},
   "source": [
    "\n",
    "2. Which of the following is a correct Boolean value in Python?\n",
    "- TRUE\n",
    "- 1\n",
    "- **False**\n",
    "- false\n",
    " \n",
    "3. What will be the output of the following code?\n",
    "\n",
    "![Captionless Image](https://lh3.googleusercontent.com/EMz_XXSfkEWMnuQmRHvIs3AQPp_cZChOnidu1izZLu7yepz-70fMFZZpQMj-EzskeB9gmgi1EEAI4ftuhcSliyDW1T7UcS0rTniLep85pAsSEEl31nDsmZ0R4_sv5BrQfQ=w740)\n",
    "- <class 'str'>\n",
    "- **<class 'float'>**\n",
    "- <class 'int'>\n",
    "- <class 'bool'>\n"
   ]
  },
  {
   "cell_type": "code",
   "execution_count": 2,
   "id": "c1c35780-a1a4-46f8-911d-b68ed000feb9",
   "metadata": {},
   "outputs": [
    {
     "name": "stdout",
     "output_type": "stream",
     "text": [
      "<class 'float'>\n"
     ]
    }
   ],
   "source": [
    "num1 = 7\n",
    "num2 = 3.5\n",
    "print(type(num1 + num2))"
   ]
  },
  {
   "cell_type": "markdown",
   "id": "303d332d-dcba-41e1-835d-ad1bc9789316",
   "metadata": {},
   "source": [
    " \n",
    "4. How do you correctly assign a floating-point number to a variable in Python?\n",
    "- a) x = 10.0\n",
    "- b) x = 10\n",
    "- c) x = float(10)\n",
    "- **Both a and c**\n",
    " \n",
    " \n",
    "5. Which of the following statements about data types is true?\n",
    "- The type of '123' is int.\n",
    "- 1 and True are the same in Python.\n",
    "- Python has no Boolean type.\n",
    "- **A number with a decimal point is a float.**\n",
    " \n",
    "\n",
    " \n",
    "6. What will be the output of the following code?\n",
    "\n",
    "![Captionless Image](https://lh3.googleusercontent.com/e-KdQYYr8lESo2EAY27Ogwq4K38vk-Rc7TnUk6uJHC4D7jQ38SZ4GylopV4blJicd8rMH6VCkz2DSb6N9T9axpL6asPLhQew94uvTkvKdcuX5RP1O4Cgh8r7AAouQCUTqg=w740)\n",
    "- 2\n",
    "- 5\n",
    "- **10**\n",
    "- 8\n"
   ]
  },
  {
   "cell_type": "code",
   "execution_count": 3,
   "id": "f846a689-3278-48dd-a3fb-9b55691eeca1",
   "metadata": {},
   "outputs": [
    {
     "name": "stdout",
     "output_type": "stream",
     "text": [
      "10\n"
     ]
    }
   ],
   "source": [
    "num = 0b1010\n",
    "print(num)"
   ]
  },
  {
   "cell_type": "markdown",
   "id": "85fe9ce5-2ef3-4876-9ef2-10a347a0632a",
   "metadata": {},
   "source": [
    " \n",
    "7. Given the following code, what will be the output?\n",
    "\n",
    "![Captionless Image](https://lh5.googleusercontent.com/TNX8_ul6cc5ZmBbxHtPndqFX9cMdsoJZfpvS-f-LtiMnaST54a_t0ARoV0ljPUpAn_UZfpZqxc6c3gWPC6z9p6Y6XDZYOCAQKnRwhmpSz16kMB3vsGKyi-0o8D5fe5k3wQ=w740)\n",
    "- False\n",
    "- **True**\n",
    "- None\n",
    "- Error\n",
    " "
   ]
  },
  {
   "cell_type": "code",
   "execution_count": 4,
   "id": "8a911d6e-7734-4f1e-8b89-3441033577f0",
   "metadata": {},
   "outputs": [
    {
     "name": "stdout",
     "output_type": "stream",
     "text": [
      "True\n"
     ]
    }
   ],
   "source": [
    "pi = 3.14159\n",
    "is_pi = isinstance(pi, float)\n",
    "print(is_pi)"
   ]
  },
  {
   "cell_type": "markdown",
   "id": "e4d8009d-0525-4a65-8832-b65269d4a3d6",
   "metadata": {},
   "source": [
    "8. What will be the output of the following code snippet?\n",
    "\n",
    "![Captionless Image](https://lh4.googleusercontent.com/PCXEwS52J0cPCmFkh89qCnypUfTo-7dY75jb1jmjPFWG88H0F7YK6rXM0arJa5PdcvnPjTaK8O5cPKey9nygbgFT5eBfql7z1KrltH3FDOG57nzZmJ0bBibJcgYbY_rg0Q=w740)\n",
    "- **6**\n",
    "- False\n",
    "- TypeError\n",
    "- 5\n",
    " "
   ]
  },
  {
   "cell_type": "code",
   "execution_count": 5,
   "id": "caba1ce1-453f-4ef9-a941-5ecb916f3e45",
   "metadata": {},
   "outputs": [
    {
     "name": "stdout",
     "output_type": "stream",
     "text": [
      "6\n"
     ]
    }
   ],
   "source": [
    "x = 5\n",
    "y = True\n",
    "print(x + y)"
   ]
  },
  {
   "cell_type": "markdown",
   "id": "97684664-9ea1-45ca-aed6-b3535fafa2a9",
   "metadata": {},
   "source": [
    "9. Which of the following will result in a floating-point number?\n",
    "\n",
    "- d. 7 ** 2\n",
    "- a. **7 / 2**\n",
    "- c. 7 % 2\n",
    "- b. 7 // 2"
   ]
  },
  {
   "cell_type": "code",
   "execution_count": 6,
   "id": "a041e4de-ebb6-41e5-90ff-b0320ff5f48a",
   "metadata": {},
   "outputs": [
    {
     "name": "stdout",
     "output_type": "stream",
     "text": [
      "<class 'int'>\n",
      "<class 'float'>\n",
      "<class 'int'>\n",
      "<class 'int'>\n"
     ]
    }
   ],
   "source": [
    "print(type(7**2))\n",
    "print(type(7/2))\n",
    "print(type(7%2))\n",
    "print(type(7//2))"
   ]
  },
  {
   "cell_type": "markdown",
   "id": "6f3c115c-d4a6-43b4-a6a2-5392fe775d00",
   "metadata": {},
   "source": [
    "10. What will the output of the following code?\n",
    "\n",
    "![Captionless Image](https://lh4.googleusercontent.com/hTnYeCH6pPhB5RYE_6bLFSty4c2f9gj1Ww_HHbxLooCsEdzjPd7oT9xqdevG4hoz1CnR3peA9CnuRCfGNZdnGsJsNADEAqmtpbqvLwhoMZEQdGvw_sHqqFJd1UuSfzlsDg=w740)\n",
    "- **3.0**\n",
    "- 3\n",
    "- 0\n",
    "- 3.5"
   ]
  },
  {
   "cell_type": "code",
   "execution_count": 7,
   "id": "05a16d60-afc9-42ce-8790-e9da5ee177b2",
   "metadata": {},
   "outputs": [
    {
     "name": "stdout",
     "output_type": "stream",
     "text": [
      "3.0\n"
     ]
    }
   ],
   "source": [
    "x = 3.5\n",
    "y = int(x)\n",
    "z = float(y)\n",
    "print(z)"
   ]
  },
  {
   "cell_type": "code",
   "execution_count": null,
   "id": "3a3d902b-ddb0-413c-9ba3-53acf57226b3",
   "metadata": {},
   "outputs": [],
   "source": []
  }
 ],
 "metadata": {
  "kernelspec": {
   "display_name": "Python 3 (ipykernel)",
   "language": "python",
   "name": "python3"
  },
  "language_info": {
   "codemirror_mode": {
    "name": "ipython",
    "version": 3
   },
   "file_extension": ".py",
   "mimetype": "text/x-python",
   "name": "python",
   "nbconvert_exporter": "python",
   "pygments_lexer": "ipython3",
   "version": "3.12.3"
  }
 },
 "nbformat": 4,
 "nbformat_minor": 5
}
