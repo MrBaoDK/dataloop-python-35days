{
 "cells": [
  {
   "cell_type": "markdown",
   "id": "0ca901ed-0492-4c8b-8c01-e08babb8932c",
   "metadata": {},
   "source": [
    "# Project 1\n",
    "\n",
    "# Unit of Measurement Converter Project\n",
    "\n",
    "Your task in this project is to write Python code to convert between different units. The minimum number of units you need to convert is 3, and the maximum is 6. For each additional unit beyond 3, you will earn 1 bonus point. \n",
    "\n",
    "For example, converting between 4 units will earn you 2 bonus point, 5 units will earn you 3 bonus points, and 6 units will earn you 4 bonus points.\n",
    "\n",
    "Website to check: [https://www.unitconverters.net/](https://www.unitconverters.net/)\n",
    "\n",
    "Link: https://forms.gle/4KBCvjHmmRnWRD8JA\n",
    "\n",
    "Submission: [forms.gle](https://docs.google.com/forms/d/e/1FAIpQLScCg0K8Q9OJ4LctWV9PfqIgc3-z7VoktIjeje6DQVtpEw05wg/viewscore?viewscore=AE0zAgBfh_hAvQ7kspx8k3psBLhMDnKHAG6_SQvND0T4gtsiIEMuVTZwY9eaMIcaF7NXnKo)\n",
    "\n",
    "## The correct output should look like the photo\n",
    "\n",
    "I've reviewed the submissions, and it seems many of you misunderstood the project. Please redo it.\n",
    "\n",
    "You can use any measurement unit you prefer, as long as you use a minimum of 3 and a maximum of 6 units.\n",
    "\n",
    "## make sure it's the same units like Length, Temperature or Area... Check the website above\n",
    "\n",
    "## Expected result\n",
    "\n",
    "```sh\n",
    "Enter Starting unit of Measurement(inches, feet, yards): Yards\n",
    "Enter unit of Measurement to Convert to(inches, feet, yards): Feet\n",
    "Enter Starting Measurement in Yards: 68\n",
    "Result: 68 Yards = 204 Feet\n",
    "```"
   ]
  },
  {
   "cell_type": "code",
   "execution_count": 35,
   "id": "aa4b091c-7796-497e-b99c-3df8a93adc87",
   "metadata": {},
   "outputs": [
    {
     "name": "stdout",
     "output_type": "stream",
     "text": [
      "Enter Starting unit of Measurement(Hectare, Square miles, Acres, Square meters)  Square miles\n",
      "Enter unit of Measurement to Convert to(Hectare, Acres, Square meters)  Acres\n",
      "Enter Starting Measurement in Square miles:  1\n"
     ]
    },
    {
     "name": "stdout",
     "output_type": "stream",
     "text": [
      "Result: 1 Square miles = 640.0005337476797 Acres\n"
     ]
    }
   ],
   "source": [
    "# declare measurement dictionary\n",
    "measurements = \\\n",
    "    { \"Length\": { \"Inches\": 1e4/254,\n",
    "                  \"Feet\": 1e4/3048,\n",
    "                  \"Yards\": 1e4/9144,\n",
    "                  \"Miles\": 1e3/1609344,\n",
    "                  \"Meters\": 1 },\n",
    "      \"Area\": { \"Hectare\": 1e-4,\n",
    "                \"Square miles\": 1/2589990,\n",
    "                \"Acres\": 1e3/4046856,\n",
    "                \"Square meters\": 1},\n",
    "      \"Weight\": { \"Ounces\": 1e3/28350,\n",
    "                  \"Pounds\": 1e3/453592,\n",
    "                  \"Miligrams\": 1e3,\n",
    "                  \"Kilograms\": 1e-3}}\n",
    "\n",
    "# switch measurement units\n",
    "# measurement = measurements[\"Length\"]\n",
    "measurement = measurements[\"Area\"]\n",
    "# measurement = measurements[\"Weight\"]\n",
    "\n",
    "# handling input unit to convert\n",
    "all_units = list(measurement.keys())\n",
    "while True:\n",
    "    unit_from = input(f\"Enter Starting unit of Measurement({\", \".join(all_units)}) \").strip().capitalize()\n",
    "    ratio_from = measurement.get(unit_from)\n",
    "    if ratio_from is None:\n",
    "        print(\"Improper unit entry! Enter again!\")\n",
    "    else:\n",
    "        break\n",
    "# handling input unit converting to\n",
    "units_to_convert = [u for u in all_units if u != unit_from]\n",
    "while True:\n",
    "    unit_to = input(f\"Enter unit of Measurement to Convert to({\", \".join(units_to_convert)}) \").strip().capitalize()\n",
    "    ratio_to = measurement.get(unit_to)\n",
    "    if ratio_to is None or unit_to == unit_from:\n",
    "        print(\"Improper unit entry! Enter again!\")\n",
    "    else:\n",
    "        break\n",
    "\n",
    "# check quantity for converting whether convertible\n",
    "while True:\n",
    "    val_input = input(f\"Enter Starting Measurement in {unit_from}: \").strip()\n",
    "    if  val_input.startswith(\"-\") and val_input[1:].replace(\".\", \"\", 1).isnumeric() \\\n",
    "    or val_input.replace(\".\", \"\", 1).isnumeric():\n",
    "        break\n",
    "    else:\n",
    "        print(\"Improper measurement entry! Enter again!\")\n",
    "\n",
    "# calculation and print out the result\n",
    "converted_val = float(val_input) / ratio_from * ratio_to\n",
    "print(f\"Result: {val_input} {unit_from} = {int(converted_val) if str(converted_val).endswith(\".0\") else converted_val} {unit_to}\")\n",
    "                "
   ]
  },
  {
   "cell_type": "code",
   "execution_count": null,
   "id": "9c838d91-8bd2-4979-9dae-0c2b24ee6fa6",
   "metadata": {},
   "outputs": [],
   "source": []
  }
 ],
 "metadata": {
  "kernelspec": {
   "display_name": "Python 3 (ipykernel)",
   "language": "python",
   "name": "python3"
  },
  "language_info": {
   "codemirror_mode": {
    "name": "ipython",
    "version": 3
   },
   "file_extension": ".py",
   "mimetype": "text/x-python",
   "name": "python",
   "nbconvert_exporter": "python",
   "pygments_lexer": "ipython3",
   "version": "3.12.3"
  }
 },
 "nbformat": 4,
 "nbformat_minor": 5
}
