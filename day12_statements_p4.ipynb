{
 "cells": [
  {
   "cell_type": "markdown",
   "id": "0e17f97c-4b5f-4717-a00d-659422e3ca29",
   "metadata": {},
   "source": [
    "# Day 12 Statements - Part 4\n",
    "\n",
    "List comprehension is a concise way to create lists in Python. It's a syntactic construct that enables lists to be created from other lists (or any iterable), transforming and filtering elements in the process. This can make your code more readable and efficient."
   ]
  },
  {
   "cell_type": "markdown",
   "id": "ae76d91c-8d4f-4b8b-864e-792b43753985",
   "metadata": {},
   "source": [
    "## Practices"
   ]
  },
  {
   "cell_type": "code",
   "execution_count": 9,
   "id": "a1a79045-6e79-4a2c-9ce5-11da9351215b",
   "metadata": {},
   "outputs": [
    {
     "name": "stdout",
     "output_type": "stream",
     "text": [
      "[0, 4, 16]\n"
     ]
    }
   ],
   "source": [
    "# 1. What will be the output of the following list comprehension?\n",
    "lst = [x**2 for x in range(5) if x % 2 == 0]\n",
    "print(lst)\n",
    "# > a. [0, 4, 16]\n",
    "#   b. [1, 4, 9, 16]\n",
    "#   c. [0, 4, 16, 25]\n",
    "#   d. [0, 1, 4, 9, 16]\n",
    " "
   ]
  },
  {
   "cell_type": "markdown",
   "id": "2958316e-62b7-4aa2-9821-60f91b6f5922",
   "metadata": {},
   "source": [
    "2. What will be the output of the following nested while loops?"
   ]
  },
  {
   "cell_type": "code",
   "execution_count": 8,
   "id": "484ba47c-8795-4d06-b5cc-294e2ac73058",
   "metadata": {},
   "outputs": [
    {
     "name": "stdout",
     "output_type": "stream",
     "text": [
      "0 0\n",
      "0 1\n",
      "1 0\n",
      "1 1\n",
      "2 0\n",
      "2 1\n"
     ]
    }
   ],
   "source": [
    "# 2. What will be the output of the following nested while loops?\n",
    "i = 0\n",
    "while i < 3:\n",
    "    j = 0\n",
    "    while j < 2:\n",
    "        print(i, j)\n",
    "        j += 1\n",
    "    i += 1\n",
    "\n",
    "#(a) 0 0\n",
    "#    0 1\n",
    "#    1 0\n",
    "#    1 1\n",
    "#    2 0\n",
    "#    2 1\n",
    "# b  0 0\n",
    "#    0 1\n",
    "#    1 0\n",
    "#    1 1\n",
    "# c  0 0\n",
    "#    0 1\n",
    "#    1 0\n",
    "#    1 1\n",
    "#    2 0\n",
    "# d  0 0\n",
    "#    0 1\n",
    "#    1 0\n",
    "#    1 1\n",
    "#    2 0\n",
    "#    2 1\n",
    "#    3 0\n",
    "#    3 1\n",
    " "
   ]
  },
  {
   "cell_type": "markdown",
   "id": "6a58021d-1cc8-478d-aa0f-e1cf08b93a53",
   "metadata": {},
   "source": [
    "3. Which of the following list comprehensions create a list of the first 10 square numbers?\n",
    "\n",
    "   a.\n",
    "   ```python\n",
    "   [x*x for x in range(1, 11)]\n",
    "   ```\n",
    "   \n",
    "   b.\n",
    "   ```python\n",
    "   [x^2 for x in range(10)]\n",
    "   ```\n",
    "   \n",
    "   c.\n",
    "   ```python\n",
    "   [x**2 for x in range(1, 11)]\n",
    "   ```\n",
    "   \n",
    "   **d.**\n",
    "   ```python\n",
    "   [x*x for x in range(10)]\n",
    "   ```"
   ]
  },
  {
   "cell_type": "markdown",
   "id": "7b7f3aa7-f365-43f9-bfd6-0ba20bb65bda",
   "metadata": {},
   "source": [
    "4.  What will be the output of the following code?"
   ]
  },
  {
   "cell_type": "code",
   "execution_count": 10,
   "id": "6ea8863d-1869-494e-9b63-30334b143fe3",
   "metadata": {},
   "outputs": [
    {
     "name": "stdout",
     "output_type": "stream",
     "text": [
      "[0, 2, 4, 6, 8]\n"
     ]
    }
   ],
   "source": [
    "# 4. What will be the output of the following code?\n",
    "lst = [x for x in range(10) if x % 2 == 0]\n",
    "print(lst)\n",
    "\n",
    "#(a) [0, 2, 4, 6, 8]\n",
    "# b. [1, 3, 5, 7, 9]\n",
    "# c. [0, 1, 2, 3, 4, 5, 6, 7, 8, 9]\n",
    "# d. [0, 1, 4, 9, 16]\n",
    " "
   ]
  },
  {
   "cell_type": "code",
   "execution_count": 12,
   "id": "eedce987-16b8-4ee1-b528-1b1eeda1966e",
   "metadata": {},
   "outputs": [
    {
     "name": "stdout",
     "output_type": "stream",
     "text": [
      "1 0\n",
      "2 0\n",
      "2 1\n",
      "3 0\n",
      "3 1\n",
      "3 2\n"
     ]
    }
   ],
   "source": [
    "# 5.   What will be the output of the following code?\n",
    "i = 0\n",
    "while i < 4:\n",
    "    j = 0\n",
    "    while j < 3:\n",
    "        if i == j:\n",
    "            break\n",
    "        print(i, j)\n",
    "        j += 1\n",
    "    i += 1\n",
    "\n",
    "# a  0 0\n",
    "#    1 0\n",
    "#    1 1\n",
    "#    2 0\n",
    "#    2 1\n",
    "#    2 2\n",
    "#    3 0\n",
    "#    3 1\n",
    "#    3 2\n",
    "# b  1 0\n",
    "#    2 0\n",
    "#    2 1\n",
    "#    3 0\n",
    "#    3 1\n",
    "#(c) 1 0\n",
    "#    2 0\n",
    "#    2 1\n",
    "#    3 0\n",
    "#    3 1\n",
    "#    3 2\n",
    "# d  0 0\n",
    "#    0 1\n",
    "#    0 2\n",
    "#    1 0\n",
    "#    1 1\n",
    "#    1 2\n",
    "#    2 0\n",
    "#    2 1\n",
    "#    2 2\n",
    "#    3 0\n",
    "#    3 1\n",
    "#    3 2\n",
    " "
   ]
  },
  {
   "cell_type": "code",
   "execution_count": 13,
   "id": "2fbc2630-6ae8-4143-aacc-c6481f2dcb3d",
   "metadata": {},
   "outputs": [
    {
     "name": "stdout",
     "output_type": "stream",
     "text": [
      "[11, 21, 31, 12, 22, 32, 13, 23, 33]\n"
     ]
    }
   ],
   "source": [
    "# 6. What will be the result of the following list comprehension?\n",
    "lst = [x + y for x in [1, 2, 3] for y in [10, 20, 30]]\n",
    "print(lst)\n",
    "# a. [11, 12, 13, 21, 22, 23, 31, 32, 33]\n",
    "#(b) [11, 21, 31, 12, 22, 32, 13, 23, 33]\n",
    "# c. [11, 21, 31, 12, 22, 32, 13, 23, 33, 10, 20, 30]\n",
    "# d. [11, 22, 33]\n",
    " "
   ]
  },
  {
   "cell_type": "code",
   "execution_count": 16,
   "id": "656bdab4-ff73-489f-ae42-e9f0f09f466a",
   "metadata": {},
   "outputs": [
    {
     "name": "stdout",
     "output_type": "stream",
     "text": [
      "0 3\n",
      "0 2\n",
      "0 1\n",
      "1 3\n",
      "1 2\n",
      "1 1\n",
      "2 3\n",
      "2 2\n",
      "2 1\n"
     ]
    }
   ],
   "source": [
    "# 7.  What will be the output of the following code?\n",
    "i = 0\n",
    "while i < 3:\n",
    "    j = 3\n",
    "    while j > 0:\n",
    "        print(i, j)\n",
    "        j -= 1\n",
    "    i += 1\n",
    "\n",
    "#(a) 0 3\n",
    "#    0 2\n",
    "#    0 1\n",
    "#    1 3\n",
    "#    1 2\n",
    "#    1 1\n",
    "#    2 3\n",
    "#    2 2\n",
    "#    2 1\n",
    "# b  0 3\n",
    "#    1 3\n",
    "#    2 3\n",
    "# c  0 3\n",
    "#    0 2\n",
    "#    0 1\n",
    "#    1 3\n",
    "#    1 2\n",
    "#    1 1\n",
    "# d  3 2\n",
    "#    2 1\n",
    "#    1 0\n",
    " "
   ]
  },
  {
   "cell_type": "markdown",
   "id": "a957bbc5-6dcc-408b-b8a1-fdbb4247737d",
   "metadata": {},
   "source": [
    "8. Which of the following list comprehensions filters out even numbers from a list of numbers from 0 to 9?\n",
    "\n",
    "   a.\n",
    "   ```python\n",
    "   [x for x in range(10) if x % 2 == 0]\n",
    "   ```\n",
    "\n",
    "   **b.**\n",
    "   ```python\n",
    "   [x for x in range(10) if x % 2 != 0]\n",
    "   ```\n",
    "\n",
    "   **c.**\n",
    "   ```python\n",
    "   [x for x in range(10) if x % 2 == 1]\n",
    "   ```\n",
    "\n",
    "   d.\n",
    "   ```python\n",
    "   [x for x in range(10) if x // 2 == 0]\n",
    "   ```\n",
    "\n",
    " "
   ]
  },
  {
   "cell_type": "code",
   "execution_count": 18,
   "id": "da8b1e96-e701-455d-b58f-fcfb9303c722",
   "metadata": {},
   "outputs": [
    {
     "name": "stdout",
     "output_type": "stream",
     "text": [
      "0 0\n",
      "0 1\n",
      "0 2\n",
      "0 3\n",
      "1 0\n",
      "1 1\n",
      "1 2\n",
      "1 3\n",
      "3 0\n",
      "3 1\n",
      "3 2\n",
      "3 3\n"
     ]
    }
   ],
   "source": [
    "# 9. What will be the output of the following nested while loops with a break statement?\n",
    "i = 0\n",
    "while i < 4:\n",
    "    j = 0\n",
    "    while j < 4:\n",
    "        if i == 2:\n",
    "            break\n",
    "        print(i, j)\n",
    "        j += 1\n",
    "    i += 1\n",
    "\n",
    "# a  0 0\n",
    "#    0 1\n",
    "#    0 2\n",
    "#    0 3\n",
    "#    1 0\n",
    "#    1 1\n",
    "#    1 2\n",
    "#    1 3\n",
    "#    2 0\n",
    "#    2 1\n",
    "#    2 2\n",
    "#    2 3\n",
    "#    3 0\n",
    "#    3 1\n",
    "#    3 2\n",
    "#    3 3\n",
    "#(b) 0 0\n",
    "#    0 1\n",
    "#    0 2\n",
    "#    0 3\n",
    "#    1 0\n",
    "#    1 1\n",
    "#    1 2\n",
    "#    1 3\n",
    "#    3 0\n",
    "#    3 1\n",
    "#    3 2\n",
    "#    3 3\n",
    "# c  0 0\n",
    "#    0 1\n",
    "#    0 2\n",
    "#    0 3\n",
    "#    1 0\n",
    "#    1 1\n",
    "#    1 2\n",
    "#    1 3\n",
    "#    2 0\n",
    "#    2 1\n",
    "#    2 2\n",
    "#    2 3\n",
    "# d  0 0\n",
    "#    0 1\n",
    "#    0 2\n",
    "#    0 3\n",
    "#    1 0\n",
    "#    1 1\n",
    "#    1 2\n",
    "#    1 3\n",
    " "
   ]
  },
  {
   "cell_type": "code",
   "execution_count": 17,
   "id": "f41ce74a-7d0a-4b7e-ba20-b945d05ff6a0",
   "metadata": {},
   "outputs": [
    {
     "name": "stdout",
     "output_type": "stream",
     "text": [
      "[11, 21, 31, 12, 22, 32, 13, 23, 33]\n"
     ]
    }
   ],
   "source": [
    "# 10. What will be the output of the following code with list comprehension?\n",
    "lst = [x + y for x in [1, 2, 3] for y in [10, 20, 30]]\n",
    "print(lst)\n",
    "# a. [0, 0, 0, 1, 1, 1, 2, 2, 2]\n",
    "# b. [0, 1, 2, 0, 1, 2, 0, 1, 2]\n",
    "# c. [0, 0, 0, 1, 2, 3, 2, 4, 6]\n",
    "#(d) [0, 0, 0, 0, 1, 2, 0, 2, 4]"
   ]
  }
 ],
 "metadata": {
  "kernelspec": {
   "display_name": "Python 3 (ipykernel)",
   "language": "python",
   "name": "python3"
  },
  "language_info": {
   "codemirror_mode": {
    "name": "ipython",
    "version": 3
   },
   "file_extension": ".py",
   "mimetype": "text/x-python",
   "name": "python",
   "nbconvert_exporter": "python",
   "pygments_lexer": "ipython3",
   "version": "3.12.3"
  }
 },
 "nbformat": 4,
 "nbformat_minor": 5
}
