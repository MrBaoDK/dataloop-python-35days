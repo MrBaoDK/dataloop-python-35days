{
 "cells": [
  {
   "cell_type": "markdown",
   "id": "068f3889-d07d-4f2a-8664-ba8da04c46b1",
   "metadata": {},
   "source": [
    "# Day 10 Statements - Part 2\n",
    "\n",
    "The for loop in Python is used to iterate over a sequence (such as a list, tuple, string, or range) or other iterable objects. Iterating over a sequence is called traversal. Here's the basic syntax:\n",
    "\n",
    "```python\n",
    "for item in sequence:\n",
    "    # code to execute for each item\n",
    "```"
   ]
  },
  {
   "cell_type": "markdown",
   "id": "baa005cc-e892-48f2-aa90-0879a0100f11",
   "metadata": {},
   "source": [
    "## Practices"
   ]
  },
  {
   "cell_type": "markdown",
   "id": "e4913622-1c65-4e1d-ab5a-9794ff8d41ab",
   "metadata": {},
   "source": [
    "1. What will be the output of the following code?"
   ]
  },
  {
   "cell_type": "code",
   "execution_count": 2,
   "id": "72f31678-887a-43ba-9366-65b446fe2257",
   "metadata": {},
   "outputs": [
    {
     "name": "stdout",
     "output_type": "stream",
     "text": [
      "0\n",
      "1\n",
      "2\n"
     ]
    }
   ],
   "source": [
    "for i in range(3):\n",
    "    print(i)\n",
    "#   0 1 2 3\n",
    "#   1 2 3\n",
    "# > 0 1 2\n",
    "#   1 2"
   ]
  },
  {
   "cell_type": "markdown",
   "id": "517d7d77-35e0-4e0c-9980-83439512b75a",
   "metadata": {},
   "source": [
    "2.   Which of the following is the correct syntax for a for loop in Python?"
   ]
  },
  {
   "cell_type": "code",
   "execution_count": 3,
   "id": "433bec23-620f-4ad6-92da-a1b1790a6a63",
   "metadata": {},
   "outputs": [
    {
     "ename": "SyntaxError",
     "evalue": "invalid syntax. Maybe you meant '==' or ':=' instead of '='? (2531541378.py, line 2)",
     "output_type": "error",
     "traceback": [
      "\u001b[1;36m  Cell \u001b[1;32mIn[3], line 2\u001b[1;36m\u001b[0m\n\u001b[1;33m    for (i=0; i<5; i++):\u001b[0m\n\u001b[1;37m         ^\u001b[0m\n\u001b[1;31mSyntaxError\u001b[0m\u001b[1;31m:\u001b[0m invalid syntax. Maybe you meant '==' or ':=' instead of '='?\n"
     ]
    }
   ],
   "source": [
    "# A\n",
    "for (i=0; i<5; i++):\n",
    "    print(i)"
   ]
  },
  {
   "cell_type": "code",
   "execution_count": 5,
   "id": "9712b5a1-991a-4579-9cac-76d6b797542d",
   "metadata": {},
   "outputs": [
    {
     "name": "stdout",
     "output_type": "stream",
     "text": [
      "0\n",
      "1\n",
      "2\n",
      "3\n",
      "4\n"
     ]
    }
   ],
   "source": [
    "# B\n",
    "for i in range(5):\n",
    "    print(i)"
   ]
  },
  {
   "cell_type": "code",
   "execution_count": 6,
   "id": "b0fd7140-52e6-4800-9397-66b658126da3",
   "metadata": {},
   "outputs": [
    {
     "ename": "SyntaxError",
     "evalue": "invalid syntax (3142231615.py, line 2)",
     "output_type": "error",
     "traceback": [
      "\u001b[1;36m  Cell \u001b[1;32mIn[6], line 2\u001b[1;36m\u001b[0m\n\u001b[1;33m    for i in 0 to 5:\u001b[0m\n\u001b[1;37m               ^\u001b[0m\n\u001b[1;31mSyntaxError\u001b[0m\u001b[1;31m:\u001b[0m invalid syntax\n"
     ]
    }
   ],
   "source": [
    "# C\n",
    "for i in 0 to 5:\n",
    "    print(i)"
   ]
  },
  {
   "cell_type": "code",
   "execution_count": 7,
   "id": "4c979f6b-e447-40b5-9bcc-f3eb50e85f56",
   "metadata": {},
   "outputs": [
    {
     "ename": "SyntaxError",
     "evalue": "invalid syntax (3700118520.py, line 2)",
     "output_type": "error",
     "traceback": [
      "\u001b[1;36m  Cell \u001b[1;32mIn[7], line 2\u001b[1;36m\u001b[0m\n\u001b[1;33m    for i to 5:\u001b[0m\n\u001b[1;37m          ^\u001b[0m\n\u001b[1;31mSyntaxError\u001b[0m\u001b[1;31m:\u001b[0m invalid syntax\n"
     ]
    }
   ],
   "source": [
    "# D\n",
    "for i to 5:\n",
    "    print(i)"
   ]
  },
  {
   "cell_type": "markdown",
   "id": "25ac7339-e224-4c3b-b300-ac9cfc27ac0a",
   "metadata": {},
   "source": [
    "3.  What will be the output of the following code?"
   ]
  },
  {
   "cell_type": "code",
   "execution_count": 8,
   "id": "3b3581a0-a946-48ac-a551-d096a9f37b76",
   "metadata": {},
   "outputs": [
    {
     "name": "stdout",
     "output_type": "stream",
     "text": [
      "1\n",
      "3\n"
     ]
    }
   ],
   "source": [
    "for i in range(1, 5, 2):\n",
    "    print(i)\n",
    "# > 1 3\n",
    "#   2 4\n",
    "#   1 3 5\n",
    "#   1 2 3 4"
   ]
  },
  {
   "cell_type": "markdown",
   "id": "9d590ff0-1d63-4504-b642-752cc9a3f559",
   "metadata": {},
   "source": [
    "4. What will be the output of the following nested loop?"
   ]
  },
  {
   "cell_type": "code",
   "execution_count": 9,
   "id": "e2031c5e-2085-4472-8be0-572c1836b072",
   "metadata": {},
   "outputs": [
    {
     "name": "stdout",
     "output_type": "stream",
     "text": [
      "0 0\n",
      "0 1\n",
      "1 0\n",
      "1 1\n"
     ]
    },
    {
     "data": {
      "text/plain": [
       "'\\n> A. 0 0\\n     0 1\\n     1 0\\n     1 1\\n\\n  B. 0 0\\n     0 1\\n     1 0\\n\\n  C. 0 0\\n     0 1\\n     1 1\\n     \\n  D. 1 1\\n     1 0\\n     0 0\\n     0 1\\n'"
      ]
     },
     "execution_count": 9,
     "metadata": {},
     "output_type": "execute_result"
    }
   ],
   "source": [
    "for i in range(2):\n",
    "    for j in range(2):\n",
    "        print(i, j)\n",
    "\"\"\"\n",
    "> A. 0 0\n",
    "     0 1\n",
    "     1 0\n",
    "     1 1\n",
    "\n",
    "  B. 0 0\n",
    "     0 1\n",
    "     1 0\n",
    "\n",
    "  C. 0 0\n",
    "     0 1\n",
    "     1 1\n",
    "     \n",
    "  D. 1 1\n",
    "     1 0\n",
    "     0 0\n",
    "     0 1\n",
    "\"\"\""
   ]
  },
  {
   "cell_type": "markdown",
   "id": "0e6176dc-6a14-47ed-bac3-63e3adebd12c",
   "metadata": {},
   "source": [
    "5.   What will be the output of the following code?\n",
    "\n",
    "![question 5](https://lh4.googleusercontent.com/GpWsGvTpqNN8jtFULC9iuwUsRkX8PAmlS1kR1wt-4R7ws73vWCkhe9uynnPacAaizKHsGDUZ1kFj3bIqVvmn-c4vvbwHLlet4QsdtvHgepp8o3K2yRIRc51Mee_irew9xQ=w740)"
   ]
  },
  {
   "cell_type": "code",
   "execution_count": 11,
   "id": "1054ded0-fcce-4791-bd86-d581f33c8e7c",
   "metadata": {
    "scrolled": true
   },
   "outputs": [
    {
     "name": "stdout",
     "output_type": "stream",
     "text": [
      "0 0\n",
      "0 1\n",
      "1 0\n",
      "1 1\n",
      "2 0\n",
      "2 1\n"
     ]
    }
   ],
   "source": [
    "for i in range(3):\n",
    "    for j in range(2):\n",
    "        print(i, j)\n",
    "# A is correct answer"
   ]
  },
  {
   "cell_type": "markdown",
   "id": "093caaaf-05d4-43cb-86f7-a057528def38",
   "metadata": {},
   "source": [
    "6.  What will be the result of the following code?"
   ]
  },
  {
   "cell_type": "code",
   "execution_count": 13,
   "id": "7a658eee-1009-44b7-b9d8-b84e83980502",
   "metadata": {},
   "outputs": [
    {
     "name": "stdout",
     "output_type": "stream",
     "text": [
      "0\n",
      "1\n",
      "2\n"
     ]
    }
   ],
   "source": [
    "for i in range(5):\n",
    "    if i == 3:\n",
    "        break\n",
    "    print(i)\n",
    "\n",
    "#  0 1 2 3\n",
    "#> 0 1 2\n",
    "#  0 1 2 3 4\n",
    "#  1 2 3 4"
   ]
  },
  {
   "cell_type": "markdown",
   "id": "093a28e6-ce1e-49af-9ba4-07bac857a152",
   "metadata": {},
   "source": [
    "7.  What will be the output of the following code?"
   ]
  },
  {
   "cell_type": "code",
   "execution_count": 14,
   "id": "7f4cbcab-3fb4-4cc1-aff8-5e6a9dd7b016",
   "metadata": {},
   "outputs": [
    {
     "name": "stdout",
     "output_type": "stream",
     "text": [
      "0\n",
      "1\n",
      "3\n",
      "4\n"
     ]
    }
   ],
   "source": [
    "for i in range(5):\n",
    "    if i == 2:\n",
    "        continue\n",
    "    print(i)\n",
    "#   1 3 4\n",
    "#   1 2 3 4\n",
    "#   0 1 2 3 4\n",
    "#✅ 0 1 3 4"
   ]
  },
  {
   "cell_type": "markdown",
   "id": "9d115374-842b-4fbb-9517-95fd2164196c",
   "metadata": {},
   "source": [
    "8.  What will be the result of the following code?\n",
    "\n",
    "![Captionless Image](https://lh3.googleusercontent.com/UzbfEyNrpkRvRo9yzFZktKEQ05Sgc7Vhp32GLHTC7NRLR88KFiicxnOaKMeRKoCfsVncoxVaJFbboBqDrAq-n8UjAlfBcJZ9v6YYmkkgzRwTQjkVGDvoNizMZLTjFLDKDg=w740)"
   ]
  },
  {
   "cell_type": "code",
   "execution_count": 15,
   "id": "bad7b042-656e-48d2-848c-57f1518e3ffa",
   "metadata": {},
   "outputs": [
    {
     "name": "stdout",
     "output_type": "stream",
     "text": [
      "0 0\n",
      "0 1\n",
      "1 0\n",
      "1 1\n",
      "2 0\n",
      "2 1\n"
     ]
    }
   ],
   "source": [
    "for i in range(3):\n",
    "    for j in range(3):\n",
    "        if j == 2:\n",
    "            break\n",
    "        print(i, j)\n",
    "# A is correct answer"
   ]
  },
  {
   "cell_type": "markdown",
   "id": "795d19d6-4616-4dea-8568-38815281a483",
   "metadata": {},
   "source": [
    "9.  What will be the output of the following code?\n",
    "\n",
    "![Captionless Image](https://lh3.googleusercontent.com/Wp8BtfPI2bzltXMq41YPYphfzENdQYkXcNgQ-Ii10K3LzmoH5SF2ug4-7ZimTCadyg0liEg_oqqDvS4ubVTiMkbAIYiRP1JfJokDPLlRE1RQR8iZnZLpDhFDX86lZ57_EQ=w740)"
   ]
  },
  {
   "cell_type": "code",
   "execution_count": 16,
   "id": "7ad773b6-3159-4ef7-a461-c39de9c534da",
   "metadata": {},
   "outputs": [
    {
     "name": "stdout",
     "output_type": "stream",
     "text": [
      "0 0\n",
      "0 2\n",
      "1 0\n",
      "1 2\n",
      "2 0\n",
      "2 2\n"
     ]
    }
   ],
   "source": [
    "for i in range(3):\n",
    "    for j in range(3):\n",
    "        if j == 1:\n",
    "            continue\n",
    "        print(i, j)\n",
    "# A is correct answer"
   ]
  },
  {
   "cell_type": "markdown",
   "id": "9fe59747-caa5-4691-8801-80e5b66ec05f",
   "metadata": {},
   "source": [
    "10.  What will be the output of the following code?\n",
    "\n",
    "![Captionless Image](https://lh3.googleusercontent.com/JwWuHMqtbblxJgS3mutD3Q8YXEuyF2V-tR4uQBaBOMQjS-UoOypKg-vdNn7WOhU2uyWaUtvNTzp0twKKiquNsiZU3vQr6k_6yv3DPhUcNJFwGnJTTXRZqTMYniwcNw6S3Q=w740)"
   ]
  },
  {
   "cell_type": "code",
   "execution_count": 18,
   "id": "9b2dff9b-e9a8-4c68-a4e5-30668f28f7d3",
   "metadata": {},
   "outputs": [
    {
     "name": "stdout",
     "output_type": "stream",
     "text": [
      "1 0\n",
      "2 0\n",
      "2 1\n"
     ]
    }
   ],
   "source": [
    "for i in range(3):\n",
    "    for j in range(3):\n",
    "        if i == j:\n",
    "            break\n",
    "        print(i, j)\n",
    "# B is correct answer"
   ]
  }
 ],
 "metadata": {
  "kernelspec": {
   "display_name": "Python 3 (ipykernel)",
   "language": "python",
   "name": "python3"
  },
  "language_info": {
   "codemirror_mode": {
    "name": "ipython",
    "version": 3
   },
   "file_extension": ".py",
   "mimetype": "text/x-python",
   "name": "python",
   "nbconvert_exporter": "python",
   "pygments_lexer": "ipython3",
   "version": "3.12.3"
  }
 },
 "nbformat": 4,
 "nbformat_minor": 5
}
