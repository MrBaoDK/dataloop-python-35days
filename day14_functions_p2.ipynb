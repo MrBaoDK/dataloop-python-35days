{
 "cells": [
  {
   "cell_type": "markdown",
   "id": "f57c9ec0-92c3-4d37-b8db-b8d6f9ee91eb",
   "metadata": {},
   "source": [
    "# Day 14 Functions - Part 2"
   ]
  },
  {
   "cell_type": "markdown",
   "id": "e38f9435-3dbb-4145-8f3f-a7a13a184d25",
   "metadata": {},
   "source": [
    "## Default and Arbitrary Arguments\n",
    "\n",
    "Default arguments are used to provide default values for parameters in a function. If an argument is not provided when the function is called, the default value will be used instead. This allows for more flexible function calls.\n",
    "\n",
    "Arbitrary arguments, also known as varargs or variable-length arguments, allow a function to accept an arbitrary number of arguments. This is useful when you don't know in advance how many arguments will be passed to the function."
   ]
  },
  {
   "cell_type": "markdown",
   "id": "b8a32d74-c2ac-4e93-bd09-ad309751dcb3",
   "metadata": {},
   "source": [
    "## Practices\n",
    "\n",
    "[Submission](https://docs.google.com/forms/d/e/1FAIpQLScegfTY6MVlqV62om6RbIYCn3Iuq4-r0atHtYh_19iFRUv5gw/viewscore?viewscore=AE0zAgCQz8FqyVPNbkr9181Hiz0e-psd-gTAsQba4dImT-d23ryHdxZc8nXwANovwUErZXE)"
   ]
  },
  {
   "cell_type": "code",
   "execution_count": null,
   "id": "3f2fbab4-062c-4553-adaa-d334ca191cf6",
   "metadata": {},
   "outputs": [],
   "source": [
    "# 1. What will be the output of the following code with a docstring included?\n",
    "def func(a, b):\n",
    "    \"\"\"\n",
    "    This function adds two numbers.\n",
    "    \"\"\"\n",
    "    return a + b\n",
    "    \n",
    "result = func.__doc__\n",
    "print( result)\n",
    "# Error\n",
    "# None\n",
    "# <function func at 0x...>\n",
    "# > This function adds two numbers"
   ]
  },
  {
   "cell_type": "code",
   "execution_count": null,
   "id": "31f7e749-2e1e-4e7a-8e11-e2f86a384a0f",
   "metadata": {},
   "outputs": [],
   "source": [
    "# 2.  What will be the output of the following code?\n",
    "def multiply(x, y=1):\n",
    "    return x * y\n",
    "\n",
    "result = multiply(4, 3)\n",
    "print(result)\n",
    "# 4\n",
    "# > 12\n",
    "# Error\n",
    "# 3"
   ]
  },
  {
   "cell_type": "code",
   "execution_count": null,
   "id": "bb9b9629-490f-46c8-a684-62aa0092d0b7",
   "metadata": {},
   "outputs": [],
   "source": [
    "# 3.  What will be the output of the following code using an arbitrary number of arguments?\n",
    "def func(*args):\n",
    "    return sum(args)\n",
    "\n",
    "result = func([1, 2, 3, 4, 5])\n",
    "print(result)\n",
    "# > Error\n",
    "# 15\n",
    "# 20\n",
    "# 5"
   ]
  },
  {
   "cell_type": "code",
   "execution_count": null,
   "id": "58ba744b-0628-4405-a7dc-bdcf0ad51789",
   "metadata": {},
   "outputs": [],
   "source": [
    "# 4.  What will be the output of the following code?\n",
    "def mul(*args):\n",
    "    return args * 2\n",
    "\n",
    "result = mul([1, 2, 3, 4, 5])\n",
    "print(result)\n",
    "# [1, 2, 3, 4, 5, 1, 2, 3, 4, 5]\n",
    "# Error\n",
    "# > ([1, 2, 3, 4, 5], [1, 2, 3, 4, 5])\n",
    "# [2, 4, 6, 8, 10]"
   ]
  },
  {
   "cell_type": "code",
   "execution_count": null,
   "id": "5ad89397-ff20-4b66-8db6-bc08024d314b",
   "metadata": {},
   "outputs": [],
   "source": [
    "# 5.   What will be the output of the following code?\n",
    "def func():\n",
    "    \"\"\"\n",
    "    \"\"\"\n",
    "    return \n",
    "    \n",
    "result = func.__doc__\n",
    "print( result)\n",
    "# Blank\n",
    "# \"Error\"\n",
    "# Error\n",
    "# \" \" (NOTE: this is empty string)"
   ]
  },
  {
   "cell_type": "code",
   "execution_count": null,
   "id": "3f961696-3b2b-4512-890e-958da79ae5d4",
   "metadata": {},
   "outputs": [],
   "source": [
    "# 6.  What will be the output of the following code with keyword-only arguments?\n",
    "def func(a, b=1, *, c=2, d=3):\n",
    "    return a + b + c + d\n",
    "\n",
    "result = func(1, d=4)\n",
    "print(result)\n",
    "# 10\n",
    "# > 8\n",
    "# 7\n",
    "# Error"
   ]
  },
  {
   "cell_type": "code",
   "execution_count": null,
   "id": "b5c90a1d-e65a-4c2e-9213-4f83dc0a7445",
   "metadata": {},
   "outputs": [],
   "source": [
    "# 7.  What will be the output of the following code?\n",
    "def func(*args):\n",
    "    return sum(*args)\n",
    "    \n",
    "result = func([4, 5])\n",
    "print(result)\n",
    "# Error\n",
    "# > 9\n",
    "# 20\n",
    "# 2"
   ]
  },
  {
   "cell_type": "code",
   "execution_count": null,
   "id": "1c764dd0-4eb0-4792-9b5a-3cfdc443327b",
   "metadata": {},
   "outputs": [],
   "source": [
    "# 8. What will be the output of the following code?\n",
    "def func(*args):\n",
    "    return sum(args)\n",
    "    \n",
    "result = func(*[4, 5])\n",
    "print(result)\n",
    "# args\n",
    "# 20\n",
    "# Error\n",
    "# > 9"
   ]
  },
  {
   "cell_type": "code",
   "execution_count": null,
   "id": "49bf437f-6537-48e2-9df5-97d2e7be711d",
   "metadata": {},
   "outputs": [],
   "source": [
    "# 9.  What will be the output of the following code with default and arbitrary arguments?\n",
    "def func(a, b=1, *args):\n",
    "    return a + b + sum(args)\n",
    "    \n",
    "result = func(1, 2, [3, 4])\n",
    "print(result)\n",
    "# 12\n",
    "# 7\n",
    "# > Error\n",
    "# 10"
   ]
  },
  {
   "cell_type": "code",
   "execution_count": null,
   "id": "43344a16-b67b-4caf-9839-2439e033595b",
   "metadata": {},
   "outputs": [],
   "source": [
    "# 10.  What will be the output of the following code using `*args`?\n",
    "def func(a, *args):\n",
    "    return a + sum(args)\n",
    "    \n",
    "result = func(1, 2, 3, x=4, y= 5)\n",
    "print(result)\n",
    "# 10\n",
    "# 20\n",
    "# 15\n",
    "# > Error"
   ]
  }
 ],
 "metadata": {
  "kernelspec": {
   "display_name": "Python 3 (ipykernel)",
   "language": "python",
   "name": "python3"
  },
  "language_info": {
   "codemirror_mode": {
    "name": "ipython",
    "version": 3
   },
   "file_extension": ".py",
   "mimetype": "text/x-python",
   "name": "python",
   "nbconvert_exporter": "python",
   "pygments_lexer": "ipython3",
   "version": "3.12.3"
  }
 },
 "nbformat": 4,
 "nbformat_minor": 5
}
