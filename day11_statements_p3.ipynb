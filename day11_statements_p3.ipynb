{
 "cells": [
  {
   "cell_type": "markdown",
   "id": "bc361129-b399-4f13-b30b-36310cffc98b",
   "metadata": {},
   "source": [
    "# Day 11 Statements - Part 3"
   ]
  },
  {
   "cell_type": "markdown",
   "id": "77b516b7-01e3-418d-9914-ccd763e87ae2",
   "metadata": {},
   "source": [
    "A while loop is a control flow statement that allows code to be executed repeatedly based on a given Boolean condition. The while loop can be thought of as a repeating if statement.\n",
    "\n",
    "The code within the loop, often referred to as the body of the loop, is executed repeatedly until the condition evaluates to False.\n",
    "\n",
    "Here's the basic syntax of a while loop:\n",
    "```python\n",
    "while condition:\n",
    "    # code to execute while the condition is True\n",
    "```\n",
    "The condition is checked before each execution of the loop body. If the condition is True, the loop body is executed. If the condition is False, the loop body is skipped and the program continues with the next statement after the while loop."
   ]
  },
  {
   "cell_type": "markdown",
   "id": "fee52094-3408-4518-8394-c2268a19532b",
   "metadata": {},
   "source": [
    "## The break statement is used to exit the loop prematurely when a certain condition is met. When the break statement is executed, Python terminates the loop, even if the while condition is true.\n",
    "```python\n",
    "x = 0\n",
    "while x < 10:\n",
    "    if x == 5:\n",
    "        break\n",
    "    print(x)\n",
    "    x += 1\n",
    "```\n",
    "In this example, the loop will terminate when x is equal to 5, and thus only the numbers 0 through 4 will be printed.\n",
    "\n",
    "\n",
    "\n",
    "## The continue statement is used to skip the rest of the code inside the current loop iteration and move on to the next iteration.\n",
    "```python\n",
    "x = 0\n",
    "while x < 10:\n",
    "    x += 1\n",
    "    if x == 5:\n",
    "        continue\n",
    "    print(x)\n",
    "```\n",
    "In this example, the number 5 will not be printed because when x is equal to 5, the continue statement is executed, and the print statement is skipped for this iteration.\n",
    "\n",
    "\n",
    "\n",
    "## The else statement can be used with a while loop and it is executed when the condition becomes false.\n",
    "```python\n",
    "x = 0\n",
    "while x < 5:\n",
    "    print(x)\n",
    "    x += 1\n",
    "else:\n",
    "    print(\"x is no longer less than 5\")\n",
    "```\n",
    "In this example, after the while loop has finished executing, the else statement is executed, and \"x is no longer less than 5\" is printed.\n",
    "\n",
    "\n",
    "\n",
    "## The pass statement is a placeholder and is used when a statement is required syntactically, but you do not want any command or code to execute.\n",
    "```python\n",
    "x = 0\n",
    "while x < 5:\n",
    "    if x == 3:\n",
    "        pass\n",
    "    print(x)\n",
    "    x += 1\n",
    "```\n",
    "In this example, the pass statement does nothing when x is equal to 3. It is simply a placeholder to ensure that the code runs without any syntax errors."
   ]
  },
  {
   "cell_type": "markdown",
   "id": "0ba57fc5-f894-4fd0-a788-b134cf62e1f1",
   "metadata": {},
   "source": [
    "## Practices"
   ]
  },
  {
   "cell_type": "markdown",
   "id": "a2b9d4e2-c3bf-482a-a01f-9418fcc0c085",
   "metadata": {},
   "source": [
    "1. What will be the output of the following code?"
   ]
  },
  {
   "cell_type": "code",
   "execution_count": 1,
   "id": "80394cc1-43dc-4cd6-91d7-4025bf93b20a",
   "metadata": {},
   "outputs": [
    {
     "name": "stdout",
     "output_type": "stream",
     "text": [
      "0 1 2 "
     ]
    }
   ],
   "source": [
    "i = 0\n",
    "while i < 3:\n",
    "    print(i, end=\" \")\n",
    "    i += 1\n",
    "#  0 1 2 3\n",
    "#  1 2\n",
    "#> 0 1 2\n",
    "#  1 2 3"
   ]
  },
  {
   "cell_type": "markdown",
   "id": "9d81dc01-866c-4c94-9de5-496df8bd51fa",
   "metadata": {},
   "source": [
    " \n",
    "2. What will be the output of the following code?"
   ]
  },
  {
   "cell_type": "code",
   "execution_count": 2,
   "id": "c1273ecf-20cf-463c-a66d-9ce989b4938b",
   "metadata": {},
   "outputs": [
    {
     "name": "stdout",
     "output_type": "stream",
     "text": [
      "1 2 3 "
     ]
    }
   ],
   "source": [
    "i = 1\n",
    "while i <= 3:\n",
    "    print(i, end=\" \")\n",
    "    i += 1\n",
    "#   2 3 4\n",
    "#   1 2\n",
    "#   0 1 2\n",
    "# > 1 2 3"
   ]
  },
  {
   "cell_type": "markdown",
   "id": "54178998-6019-417c-bb49-ae3f3984f00b",
   "metadata": {},
   "source": [
    "3.  What will be the output of the following code?"
   ]
  },
  {
   "cell_type": "code",
   "execution_count": 3,
   "id": "28f3b177-b7ed-438a-8817-d9fac47b43dc",
   "metadata": {},
   "outputs": [
    {
     "name": "stdout",
     "output_type": "stream",
     "text": [
      "0 1 "
     ]
    }
   ],
   "source": [
    "i = 0\n",
    "while i < 3:\n",
    "    if i == 2:\n",
    "        break\n",
    "    print(i, end=\" \")\n",
    "    i += 1\n",
    "#   1 2\n",
    "# > 0 1\n",
    "#   0 1 2 3\n",
    "#   0 1 2"
   ]
  },
  {
   "cell_type": "markdown",
   "id": "7785fad2-c62f-4701-af0a-27d3b40bab68",
   "metadata": {},
   "source": [
    "4.  What will be the output of the following code?"
   ]
  },
  {
   "cell_type": "code",
   "execution_count": 4,
   "id": "b871d7f3-4531-4bfc-ac91-7b565067b28f",
   "metadata": {},
   "outputs": [
    {
     "name": "stdout",
     "output_type": "stream",
     "text": [
      "0 1 2 Done\n"
     ]
    }
   ],
   "source": [
    "i = 0\n",
    "while i < 3:\n",
    "    print(i, end=\" \")\n",
    "    i += 1\n",
    "else:\n",
    "    print(\"Done\")\n",
    "#   0 1 Done\n",
    "#   Done\n",
    "#   1 2 Done\n",
    "# > 0 1 2 Done\n",
    " \n",
    " "
   ]
  },
  {
   "cell_type": "markdown",
   "id": "b2f423b8-c820-4be5-80b1-9f26da9556be",
   "metadata": {},
   "source": [
    "5.   What will be the output of the following code?"
   ]
  },
  {
   "cell_type": "code",
   "execution_count": 5,
   "id": "feb4d203-fdb5-4f4e-9c19-41d4b83c0761",
   "metadata": {},
   "outputs": [
    {
     "name": "stdout",
     "output_type": "stream",
     "text": [
      "0 1 2 4 "
     ]
    }
   ],
   "source": [
    "i = 0\n",
    "while i < 5:\n",
    "    if i == 3:\n",
    "        i += 1\n",
    "        continue\n",
    "    print(i, end=\" \")\n",
    "    i += 1\n",
    "#   1 2 3 4\n",
    "# > 0 1 2 4\n",
    "#   0 1 2 3 4\n",
    "#   0 1 2 3\n",
    "\n",
    " "
   ]
  },
  {
   "cell_type": "markdown",
   "id": "9c80a451-8a2b-4158-b192-c99ab0a963ad",
   "metadata": {},
   "source": [
    "6.  What will be the result of the following code?"
   ]
  },
  {
   "cell_type": "code",
   "execution_count": 6,
   "id": "0ee0ea3f-3d64-43c7-b42c-c1d364501def",
   "metadata": {},
   "outputs": [
    {
     "name": "stdout",
     "output_type": "stream",
     "text": [
      "1 "
     ]
    }
   ],
   "source": [
    "i = 1\n",
    "while i < 4:\n",
    "    if i == 2:\n",
    "        break\n",
    "    print(i, end=\" \")\n",
    "    i += 1\n",
    "else:\n",
    "    print(\"Loop ended normally\")\n",
    "#   1 2 Loop ended normally\n",
    "#   1 2\n",
    "#   1 Loop ended normally\n",
    "# > 1\n",
    " \n",
    " "
   ]
  },
  {
   "cell_type": "markdown",
   "id": "ff9a2456-d792-4cbd-809b-e9fcd0c7c37d",
   "metadata": {},
   "source": [
    "7.  What will be the output of the following code?"
   ]
  },
  {
   "cell_type": "code",
   "execution_count": 7,
   "id": "8cc22e59-ea93-4661-9ead-620361cf514a",
   "metadata": {},
   "outputs": [
    {
     "name": "stdout",
     "output_type": "stream",
     "text": [
      "0 1 2 3\n"
     ]
    }
   ],
   "source": [
    "i = 0\n",
    "while i < 3:\n",
    "    print(i, end=\" \")\n",
    "    i += 1\n",
    "print(i)\n",
    "#   0 1 2 2\n",
    "#   0 1 2 1\n",
    "# > 0 1 2 3\n",
    "#   0 1 2 4\n",
    " "
   ]
  },
  {
   "cell_type": "markdown",
   "id": "e2abae8f-8994-4eed-ad85-cb19d957f32c",
   "metadata": {},
   "source": [
    "8.  What will be the result of the following code?"
   ]
  },
  {
   "cell_type": "code",
   "execution_count": 8,
   "id": "35e3e321-5cce-4711-8633-91d62bba21c9",
   "metadata": {},
   "outputs": [
    {
     "name": "stdout",
     "output_type": "stream",
     "text": [
      "0 even 2 even 4 even \n"
     ]
    }
   ],
   "source": [
    "i = 0\n",
    "s = \"\"\n",
    "\n",
    "while i < 5:\n",
    "    if i % 2 == 0:\n",
    "        s += f\"{i} even \"\n",
    "    i += 1\n",
    "print(s)\n",
    "# > 0 even 2 even 4 even\n",
    "#   0 even 1 even 2 even 3 even 4 even\n",
    "#   0 even 2 even\n",
    "#   0 even 1 even 2 even\n",
    " "
   ]
  },
  {
   "cell_type": "markdown",
   "id": "cedc860e-cd32-46d5-bf34-692ff8183e23",
   "metadata": {},
   "source": [
    "9.  What will be the output of the following code?"
   ]
  },
  {
   "cell_type": "code",
   "execution_count": 9,
   "id": "32e26891-26bc-4249-9a8d-0d10237883e3",
   "metadata": {},
   "outputs": [
    {
     "name": "stdout",
     "output_type": "stream",
     "text": [
      "10 7 4 1 "
     ]
    }
   ],
   "source": [
    "i = 10\n",
    "while i > 0:\n",
    "    print(i, end=\" \")\n",
    "    i -= 3\n",
    "# > 10 7 4 1\n",
    "#   10 7 4 2\n",
    "#   10 8 5 2\n",
    "#   10 6 3 0\n",
    " "
   ]
  },
  {
   "cell_type": "markdown",
   "id": "b920813f-85e6-4f9d-ba04-7cb3ad1a95ed",
   "metadata": {},
   "source": [
    "10.  What will be the output of the following code?"
   ]
  },
  {
   "cell_type": "code",
   "execution_count": 10,
   "id": "ef72f153-72b5-466d-8a39-8bd4cf714d5a",
   "metadata": {},
   "outputs": [
    {
     "name": "stdout",
     "output_type": "stream",
     "text": [
      "0 1 2 "
     ]
    }
   ],
   "source": [
    "i = 0\n",
    "while i < 5:\n",
    "    print(i, end=\" \")\n",
    "    i += 1\n",
    "    if i == 3:\n",
    "        break\n",
    "else:\n",
    "    print(\"Loop completed\")\n",
    "#   0 1 2 3 4 Loop completed\n",
    "# > 0 1 2\n",
    "#   0 1 2 Loop completed\n",
    "#   1 2 3"
   ]
  },
  {
   "cell_type": "markdown",
   "id": "ed605211-0442-4aff-b241-bc6ad12bc6ff",
   "metadata": {},
   "source": []
  }
 ],
 "metadata": {
  "kernelspec": {
   "display_name": "Python 3 (ipykernel)",
   "language": "python",
   "name": "python3"
  },
  "language_info": {
   "codemirror_mode": {
    "name": "ipython",
    "version": 3
   },
   "file_extension": ".py",
   "mimetype": "text/x-python",
   "name": "python",
   "nbconvert_exporter": "python",
   "pygments_lexer": "ipython3",
   "version": "3.12.3"
  }
 },
 "nbformat": 4,
 "nbformat_minor": 5
}
