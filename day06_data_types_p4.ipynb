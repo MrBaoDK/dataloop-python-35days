{
 "cells": [
  {
   "cell_type": "markdown",
   "id": "460c3bde-a9de-4761-bd99-a144f4f1f0e2",
   "metadata": {},
   "source": [
    "# Day 6 Data Types - Part 4"
   ]
  },
  {
   "cell_type": "markdown",
   "id": "a4bbecf4-4338-404d-934d-956441f798b9",
   "metadata": {},
   "source": [
    "## Dictionaries\n",
    "A dictionary in Python is an unordered collection of items. Each item stored in a dictionary has a key and a value. You can use the key to access the corresponding value. Dictionaries are defined by enclosing a comma-separated sequence of key-value pairs in curly braces `{}`. The key and value are separated by a colon :.\n",
    "```python\n",
    "person = {'name': 'Alice', 'age': 25, 'city': 'New York'}\n",
    "```\n",
    "\n",
    "In this dictionary, 'name', 'age', and 'city' are keys, and 'Alice', 25, and 'New York' are the corresponding values.\n",
    "\n",
    "Dictionaries are mutable, which means you can add, remove, or change items after the dictionary is created.\n",
    "\n",
    "Python provides a variety of methods to manipulate dictionaries, such as getting the value of a key (get), getting all keys (keys), getting all values (values), and getting all key-value pairs (items).\n",
    "\n",
    "You’ll often need to convert data from one type to another. This is known as type conversion or type casting. Python provides several built-in functions that can perform these conversions."
   ]
  },
  {
   "cell_type": "markdown",
   "id": "ab7646c1-311c-48d6-a5cc-2fc331d0129f",
   "metadata": {},
   "source": [
    "## Practices"
   ]
  },
  {
   "cell_type": "markdown",
   "id": "7f6b4516-98c7-43a7-ae23-496ef4949512",
   "metadata": {},
   "source": [
    "1. What will be the output of the following code?\n",
    "```python\n",
    "my_dict = {'name': 'Alice', 'age': 25}\n",
    "print(my_dict['name'])\n",
    "```\n",
    "- 25\n",
    "- 'name'\n",
    "- **'Alice'**\n",
    "- Error"
   ]
  },
  {
   "cell_type": "code",
   "execution_count": 1,
   "id": "6f0d8700-3793-4ae7-b91a-233b42acd1ea",
   "metadata": {},
   "outputs": [
    {
     "name": "stdout",
     "output_type": "stream",
     "text": [
      "Alice\n"
     ]
    }
   ],
   "source": [
    "my_dict = {'name': 'Alice', 'age': 25}\n",
    "print(my_dict['name'])"
   ]
  },
  {
   "cell_type": "markdown",
   "id": "0539dc3b-c0e6-415a-b2d9-a4be7b226f81",
   "metadata": {},
   "source": [
    "2. Given the following dictionary, how do you add a new key-value pair to the dictionary in Python?\n",
    "```python\n",
    "my_dict = {'name': 'Alice', 'age': 25}\n",
    "```\n",
    "- **`my_dict['city'] = 'New York'`**\n",
    "- `my_dict.append('city', 'New York')`\n",
    "- `my_dict.insert('city', 'New York')`\n",
    "- `my_dict.add('city', 'New York')`"
   ]
  },
  {
   "cell_type": "code",
   "execution_count": 6,
   "id": "1220c06b-abfc-430f-899f-01eec0b7e550",
   "metadata": {},
   "outputs": [],
   "source": [
    "my_dict = {'name': 'Alice', 'age': 25}\n",
    "my_dict['city'] = 'New York'\n",
    "# my_dict.append('city', 'New York')\n",
    "# my_dict.insert('city', 'New York')\n",
    "# my_dict.add('city', 'New York')"
   ]
  },
  {
   "cell_type": "markdown",
   "id": "db009f77-6b67-4d1a-ab4d-3cd4c1ca61b7",
   "metadata": {},
   "source": [
    "3. Which method removes a key-value pair from the following dictionary?\n",
    "```python\n",
    "my_dict = {'name': 'Alice', 'age': 25}\n",
    "```\n",
    "- **`my_dict.pop('name')`**\n",
    "- `my_dict.discard('name')`\n",
    "- `my_dict.delete('name')`\n",
    "- `my_dict.remove('name')`"
   ]
  },
  {
   "cell_type": "code",
   "execution_count": 9,
   "id": "846bca76-1fb2-46bd-a329-0b22aa63ab40",
   "metadata": {},
   "outputs": [
    {
     "ename": "AttributeError",
     "evalue": "'dict' object has no attribute 'remove'",
     "output_type": "error",
     "traceback": [
      "\u001b[1;31m---------------------------------------------------------------------------\u001b[0m",
      "\u001b[1;31mAttributeError\u001b[0m                            Traceback (most recent call last)",
      "Cell \u001b[1;32mIn[9], line 5\u001b[0m\n\u001b[0;32m      2\u001b[0m my_dict\u001b[38;5;241m.\u001b[39mpop(\u001b[38;5;124m'\u001b[39m\u001b[38;5;124mname\u001b[39m\u001b[38;5;124m'\u001b[39m)\n\u001b[0;32m      3\u001b[0m \u001b[38;5;66;03m# my_dict.discard('name')\u001b[39;00m\n\u001b[0;32m      4\u001b[0m \u001b[38;5;66;03m# my_dict.delete('name')\u001b[39;00m\n\u001b[1;32m----> 5\u001b[0m \u001b[43mmy_dict\u001b[49m\u001b[38;5;241;43m.\u001b[39;49m\u001b[43mremove\u001b[49m(\u001b[38;5;124m'\u001b[39m\u001b[38;5;124mname\u001b[39m\u001b[38;5;124m'\u001b[39m)\n",
      "\u001b[1;31mAttributeError\u001b[0m: 'dict' object has no attribute 'remove'"
     ]
    }
   ],
   "source": [
    "my_dict = {'name': 'Alice', 'age': 25}\n",
    "my_dict.pop('name')\n",
    "# my_dict.discard('name')\n",
    "# my_dict.delete('name')\n",
    "# my_dict.remove('name')"
   ]
  },
  {
   "cell_type": "markdown",
   "id": "6fd4e5d2-0dcc-495c-8c40-4dad88dc99bb",
   "metadata": {},
   "source": [
    "4. What is the result of the following code?\n",
    "```python\n",
    "my_dict = {'name': 'Alice', 'age': 25}\n",
    "my_dict['age'] = 26\n",
    "print(my_dict)\n",
    "```\n",
    "- **`{'name': 'Alice', 'age': 26}`**\n",
    "- `{'name': 'Alice', 'age': 25}`\n",
    "- `{'name': 'Alice', 'age': 25, 'age': 26}`\n",
    "- Error"
   ]
  },
  {
   "cell_type": "code",
   "execution_count": 10,
   "id": "f68e3d2c-e0b5-44d7-911a-2f0fd58eb125",
   "metadata": {},
   "outputs": [
    {
     "name": "stdout",
     "output_type": "stream",
     "text": [
      "{'name': 'Alice', 'age': 26}\n"
     ]
    }
   ],
   "source": [
    "my_dict = {'name': 'Alice', 'age': 25}\n",
    "my_dict['age'] = 26\n",
    "print(my_dict)"
   ]
  },
  {
   "cell_type": "markdown",
   "id": "111f4e0b-fb8b-49f9-aaa3-99495285141d",
   "metadata": {},
   "source": [
    "5. Which of the following methods returns a list of all keys in the dictionary?\n",
    "```python\n",
    "my_dict = {'name': 'Alice', 'age': 25}\n",
    "```"
   ]
  },
  {
   "cell_type": "code",
   "execution_count": 14,
   "id": "41cdc8ee-eaf3-45ca-9caa-37990a990f24",
   "metadata": {},
   "outputs": [
    {
     "data": {
      "text/plain": [
       "dict_keys(['name', 'age'])"
      ]
     },
     "execution_count": 14,
     "metadata": {},
     "output_type": "execute_result"
    }
   ],
   "source": [
    "# my_dict.get_keys()\n",
    "# my_dict.items()\n",
    "my_dict.keys()\n",
    "# my_dict.values()"
   ]
  },
  {
   "cell_type": "markdown",
   "id": "7c23947c-7c65-475c-b052-c46ac3a2222a",
   "metadata": {},
   "source": [
    "6. What will be the output of the following code?\n",
    "```python\n",
    "my_dict = {'name': 'Alice', 'age': 25}\n",
    "print(my_dict.get('city', 'Not Found'))\n",
    "```\n",
    "- city\n",
    "- Alice\n",
    "- 25\n",
    "- **Not Found**"
   ]
  },
  {
   "cell_type": "code",
   "execution_count": 15,
   "id": "f4031479-b055-4882-8eef-d95957997db3",
   "metadata": {},
   "outputs": [
    {
     "name": "stdout",
     "output_type": "stream",
     "text": [
      "Not Found\n"
     ]
    }
   ],
   "source": [
    "my_dict = {'name': 'Alice', 'age': 25}\n",
    "print(my_dict.get('city', 'Not Found'))\n"
   ]
  },
  {
   "cell_type": "markdown",
   "id": "012d1706-5315-414e-8614-13fb54adfc5b",
   "metadata": {},
   "source": [
    "7. Given the following dictionary, what will be the output after executing the code?\n",
    "```python\n",
    "my_dict = {'name': 'Alice', 'age': 25}\n",
    "for key, value in my_dict.get :\n",
    "print(key, value)\n",
    "```\n",
    "- A.\n",
    "  ```css\n",
    "  name Alice\n",
    "  age 25\n",
    "  ```\n",
    "- B. `{'name': 'Alice', 'age': 25}`\n",
    "- C.\n",
    "  ```css\n",
    "  ('name', 'Alice')\n",
    "  ('age', '25')\n",
    "  ```\n",
    "- D. Error"
   ]
  },
  {
   "cell_type": "code",
   "execution_count": 16,
   "id": "d1b04432-fa00-4038-bc61-b343d5f364f5",
   "metadata": {},
   "outputs": [
    {
     "name": "stdout",
     "output_type": "stream",
     "text": [
      "name Alice\n",
      "age 25\n"
     ]
    }
   ],
   "source": [
    "my_dict = {'name': 'Alice', 'age': 25}\n",
    "for key, value in my_dict.items():\n",
    "    print(key, value)"
   ]
  },
  {
   "cell_type": "markdown",
   "id": "441c1ce6-6470-4b0d-be75-a54f45ca8f99",
   "metadata": {},
   "source": [
    "8. What will be the result of the following code?\n",
    "```python\n",
    "my_dict = {'name': 'Alice', 'age': 25}\n",
    "my_dict.update({'city': 'New York', 'age': 26})\n",
    "print(my_dict)\n",
    "```\n",
    "- `{'name': 'Alice', 'age': 25, 'city': 'New York', 'age': 26}`\n",
    "- **`{'name': 'Alice', 'age': 26, 'city': 'New York'}`**\n",
    "- `{'city': 'New York', 'age': 26}`\n",
    "- `{'name': 'Alice', 'age': 25, 'city': 'New York'}`"
   ]
  },
  {
   "cell_type": "code",
   "execution_count": 17,
   "id": "16c634b1-cc5d-4e3a-af5c-eef353defc9f",
   "metadata": {},
   "outputs": [
    {
     "name": "stdout",
     "output_type": "stream",
     "text": [
      "{'name': 'Alice', 'age': 26, 'city': 'New York'}\n"
     ]
    }
   ],
   "source": [
    "my_dict = {'name': 'Alice', 'age': 25}\n",
    "my_dict.update({'city': 'New York', 'age': 26})\n",
    "print(my_dict)"
   ]
  },
  {
   "cell_type": "markdown",
   "id": "e2ecb49b-904f-49a1-be17-aaa75c268303",
   "metadata": {},
   "source": [
    "9. How can you merge two dictionaries in Python?\n",
    "```python\n",
    "dict1 = {'name': 'Alice', 'age': 25}\n",
    "dict2 = {'city': 'New York', 'age': 26}\n",
    "```"
   ]
  },
  {
   "cell_type": "code",
   "execution_count": 21,
   "id": "6995518a-57af-41ae-b577-6cd24f517197",
   "metadata": {},
   "outputs": [
    {
     "data": {
      "text/plain": [
       "{'name': 'Alice', 'age': 26, 'city': 'New York'}"
      ]
     },
     "execution_count": 21,
     "metadata": {},
     "output_type": "execute_result"
    }
   ],
   "source": [
    "dict1 = {'name': 'Alice', 'age': 25}\n",
    "dict2 = {'city': 'New York', 'age': 26}\n",
    "# dict1.merge(dict2)\n",
    "# dict1 + dict2\n",
    "# dict1.extend(dict2)\n",
    "{**dict1, **dict2}"
   ]
  },
  {
   "cell_type": "markdown",
   "id": "11372305-3d6a-4699-bf69-f53b7f855c42",
   "metadata": {},
   "source": [
    "10. What will be the output of the following code?\n",
    "```python\n",
    "my_dict = {'name': 'Alice', 'age': 25}\n",
    "del my_dict['name']\n",
    "print(my_dict)\n",
    "```\n",
    "- `{}`\n",
    "- `{'name': 'Alice'}`\n",
    "- `{'name': 'Alice', 'age': 25}`\n",
    "- **`{'age': 25}`**"
   ]
  },
  {
   "cell_type": "code",
   "execution_count": 23,
   "id": "ec9beb32-f6d6-4549-842f-8764ea2408a5",
   "metadata": {},
   "outputs": [
    {
     "name": "stdout",
     "output_type": "stream",
     "text": [
      "{'name': 'Alice'}\n"
     ]
    }
   ],
   "source": [
    "my_dict = {'name': 'Alice', 'age': 25}\n",
    "del my_dict['age']\n",
    "print(my_dict)"
   ]
  },
  {
   "cell_type": "code",
   "execution_count": null,
   "id": "05a5d86f-cc78-4736-83ce-f7700013dd82",
   "metadata": {},
   "outputs": [],
   "source": []
  }
 ],
 "metadata": {
  "kernelspec": {
   "display_name": "Python 3 (ipykernel)",
   "language": "python",
   "name": "python3"
  },
  "language_info": {
   "codemirror_mode": {
    "name": "ipython",
    "version": 3
   },
   "file_extension": ".py",
   "mimetype": "text/x-python",
   "name": "python",
   "nbconvert_exporter": "python",
   "pygments_lexer": "ipython3",
   "version": "3.12.3"
  }
 },
 "nbformat": 4,
 "nbformat_minor": 5
}
