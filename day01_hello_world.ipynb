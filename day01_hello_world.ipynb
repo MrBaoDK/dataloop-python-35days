{
 "cells": [
  {
   "cell_type": "markdown",
   "id": "8a2883cf-fe22-4f20-b231-2af1442c87d7",
   "metadata": {},
   "source": [
    "# Day 1"
   ]
  },
  {
   "cell_type": "markdown",
   "id": "3e7663f8-5a4d-4dc0-bd86-e42d8ac6f6f3",
   "metadata": {},
   "source": [
    "Check out this video for MacOS and Windows: https://www.youtube.com/watch?v=HW29067qVWk (til 5:00)"
   ]
  },
  {
   "cell_type": "code",
   "execution_count": 1,
   "id": "787a61d9-b757-4301-8891-03b29b879778",
   "metadata": {},
   "outputs": [
    {
     "name": "stdout",
     "output_type": "stream",
     "text": [
      "anh Rùa và Chính đẹp zoai\n"
     ]
    }
   ],
   "source": [
    "print(\"anh Rùa và Chính đẹp zoai\")"
   ]
  },
  {
   "cell_type": "code",
   "execution_count": null,
   "id": "f1ef2deb-2be5-4931-851e-1e51750a8c88",
   "metadata": {},
   "outputs": [],
   "source": []
  }
 ],
 "metadata": {
  "kernelspec": {
   "display_name": "Python 3 (ipykernel)",
   "language": "python",
   "name": "python3"
  },
  "language_info": {
   "codemirror_mode": {
    "name": "ipython",
    "version": 3
   },
   "file_extension": ".py",
   "mimetype": "text/x-python",
   "name": "python",
   "nbconvert_exporter": "python",
   "pygments_lexer": "ipython3",
   "version": "3.12.3"
  }
 },
 "nbformat": 4,
 "nbformat_minor": 5
}
