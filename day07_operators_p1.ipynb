{
 "cells": [
  {
   "cell_type": "markdown",
   "id": "e3ff40b3-4490-4f1f-9ac7-99d3fe720cdd",
   "metadata": {},
   "source": [
    "# Day 7 Operators - Part 1\n",
    "\n",
    "Operators are special symbols that carry out arithmetic or logical computation. They manipulate data values, known as operands, to produce a result. Python supports a wide range of operators, which can be classified into several types:"
   ]
  },
  {
   "cell_type": "markdown",
   "id": "b58afd84-bee1-49dc-a02b-565d84bdea1e",
   "metadata": {},
   "source": [
    "## Comparison operators are used to compare values. They return either True or False according to the condition.\n",
    "\n",
    "- `==` (Equal): If the values of two operands are equal, then the condition becomes true.\n",
    "- `!=` (Not Equal): If values of two operands are not equal, then the condition becomes true.\n",
    "- `>` (Greater Than): If the value of the left operand is greater than the value of the right operand, then the condition becomes true.\n",
    "- `<` (Less Than): If the value of the left operand is less than the value of the right operand, then the condition becomes true.\n",
    "- `>=` (Greater Than or Equal to): If the value of the left operand is greater than or equal to the value of the right operand, then the condition becomes true.\n",
    "- `<=` (Less Than or Equal to): If the value of the left operand is less than or equal to the value of the right operand, then the condition becomes true."
   ]
  },
  {
   "cell_type": "markdown",
   "id": "48e4754f-9eae-449b-a596-b4a64329e6cf",
   "metadata": {},
   "source": [
    "## Arithmetic operators are used to perform mathematical operations like addition, subtraction, multiplication, etc.\n",
    "\n",
    "- `+` (Addition): Adds values on either side of the operator.\n",
    "- `-` (Subtraction): Subtracts the right-hand operand from the left-hand operand.\n",
    "- `*` (Multiplication): Multiplies values on either side of the operator.\n",
    "- `/` (Division): Divides the left-hand operand by the right-hand operand.\n",
    "- `%` (Modulus): Returns the remainder of the division of the left-hand operand by the right-hand operand.\n",
    "- `**` (Exponent): Performs exponential (power) calculation on operators.\n",
    "- `//` (Floor Division): The division of operands where the result is the quotient, and the digits after the decimal point are removed."
   ]
  },
  {
   "cell_type": "markdown",
   "id": "e9b1ce29-4f8e-43e7-89ac-0ca95a3f900d",
   "metadata": {},
   "source": [
    "## Logical operators are used to combine conditional statements.\n",
    "\n",
    "- `and`: If both the operands are true, then the condition becomes true.\n",
    "- `or`: If any of the two operands are true, then the condition becomes true.\n",
    "- `not`: Reverses the logical state of the operand."
   ]
  },
  {
   "cell_type": "markdown",
   "id": "4a3dd881-7de6-49bc-b1c5-4f4218e010ce",
   "metadata": {},
   "source": [
    "## Practices"
   ]
  },
  {
   "cell_type": "markdown",
   "id": "90c7ac04-d1b1-4628-a19b-d570e14973b1",
   "metadata": {},
   "source": [
    "1. What will be the result of the following comparison?\n",
    "```python\n",
    "a = 10\n",
    "b = 20\n",
    "print(a == b)\n",
    "```\n",
    "- True\n",
    "- None\n",
    "- **False**\n",
    "- Error\n",
    " "
   ]
  },
  {
   "cell_type": "code",
   "execution_count": 1,
   "id": "c4c54676-0b66-43c5-9d37-71e98cd34f4a",
   "metadata": {},
   "outputs": [
    {
     "name": "stdout",
     "output_type": "stream",
     "text": [
      "False\n"
     ]
    }
   ],
   "source": [
    "a = 10\n",
    "b = 20\n",
    "print(a == b)"
   ]
  },
  {
   "cell_type": "markdown",
   "id": "a6ce9cf8-5734-456d-b294-eb811056caec",
   "metadata": {},
   "source": [
    "2. What does the following code evaluate to?\n",
    "```python\n",
    "a = 5\n",
    "b = 3\n",
    "c = 5\n",
    "print(a != c)\n",
    "```\n",
    "- Error\n",
    "- **False**\n",
    "- None\n",
    "- True\n",
    " "
   ]
  },
  {
   "cell_type": "code",
   "execution_count": 2,
   "id": "b8a7d27f-b8f9-4ae2-a583-28cd96a03b0f",
   "metadata": {},
   "outputs": [
    {
     "name": "stdout",
     "output_type": "stream",
     "text": [
      "False\n"
     ]
    }
   ],
   "source": [
    "a = 5\n",
    "b = 3\n",
    "c = 5\n",
    "print(a != c)"
   ]
  },
  {
   "cell_type": "markdown",
   "id": "5b0e3be8-1e22-49d7-bf05-a4944fe92dce",
   "metadata": {},
   "source": [
    "3. Which of the following is a logical operator in Python?\n",
    "\n",
    "- `and`\n",
    "- `not`\n",
    "- `or`\n",
    "- **All of the above**\n",
    " "
   ]
  },
  {
   "cell_type": "markdown",
   "id": "cd11f363-00d9-4cd1-be62-1ecc3600b3d0",
   "metadata": {},
   "source": [
    " \n",
    "4. What will be the result of the following arithmetic operation?\n",
    "```python\n",
    "x = 10\n",
    "y = 3\n",
    "print(x % y)\n",
    "```\n",
    "- 2\n",
    "- 0\n",
    "- 3\n",
    "- **1**\n",
    " "
   ]
  },
  {
   "cell_type": "code",
   "execution_count": 3,
   "id": "554c7939-6f48-44af-8b9a-ece2e5ea098d",
   "metadata": {},
   "outputs": [
    {
     "name": "stdout",
     "output_type": "stream",
     "text": [
      "1\n"
     ]
    }
   ],
   "source": [
    "x = 10\n",
    "y = 3\n",
    "print(x % y)"
   ]
  },
  {
   "cell_type": "markdown",
   "id": "64cb2c15-95ea-4fac-b4d6-e77605df3a71",
   "metadata": {},
   "source": [
    "5. Which of the following is a comparison operator in Python?\n",
    "\n",
    "- **`==`**\n",
    "- `and`\n",
    "- `+`\n",
    "- `=`"
   ]
  },
  {
   "cell_type": "markdown",
   "id": "0e317852-403e-49e2-b066-c9dc4b9e8681",
   "metadata": {},
   "source": [
    " \n",
    "6. What will be the result of the following logical operation?\n",
    "```python\n",
    "a = True\n",
    "b = False\n",
    "print(a and b)\n",
    "```\n",
    "\n",
    "- `None`\n",
    "- `True`\n",
    "- `Error`\n",
    "- **`False`**\n",
    " "
   ]
  },
  {
   "cell_type": "code",
   "execution_count": 4,
   "id": "541b75a4-cad8-4fab-9729-0170a5eeb51f",
   "metadata": {},
   "outputs": [
    {
     "name": "stdout",
     "output_type": "stream",
     "text": [
      "False\n"
     ]
    }
   ],
   "source": [
    "a = True\n",
    "b = False\n",
    "print(a and b)"
   ]
  },
  {
   "cell_type": "markdown",
   "id": "38f61c0e-5c89-44c9-86f0-5ca987b13b21",
   "metadata": {},
   "source": [
    "7. What will be the output of the following code?\n",
    "```python\n",
    "a = 10\n",
    "b = 20\n",
    "print(a < b and a > 5)\n",
    "```\n",
    "- `None`\n",
    "- `False`\n",
    "- **`True`**\n",
    "- `Error`\n",
    "\n",
    " "
   ]
  },
  {
   "cell_type": "code",
   "execution_count": 5,
   "id": "d09371f3-8488-4fd3-858a-95ddd3395c27",
   "metadata": {},
   "outputs": [
    {
     "name": "stdout",
     "output_type": "stream",
     "text": [
      "True\n"
     ]
    }
   ],
   "source": [
    "a = 10\n",
    "b = 20\n",
    "print(a < b and a > 5)"
   ]
  },
  {
   "cell_type": "markdown",
   "id": "4321bf30-e6b7-4609-a343-3273b2470e6f",
   "metadata": {},
   "source": [
    "8. What will be the result of the following code?\n",
    "```python\n",
    "x = 5\n",
    "y = 2\n",
    "print(x ** y)\n",
    "```\n",
    "- **25**\n",
    "- 20\n",
    "- 10\n",
    "- 7"
   ]
  },
  {
   "cell_type": "code",
   "execution_count": 6,
   "id": "222235c4-d795-4fec-a61d-fd2c05c9937a",
   "metadata": {},
   "outputs": [
    {
     "name": "stdout",
     "output_type": "stream",
     "text": [
      "25\n"
     ]
    }
   ],
   "source": [
    "x = 5\n",
    "y = 2\n",
    "print(x ** y)"
   ]
  },
  {
   "cell_type": "markdown",
   "id": "a83693b5-28a2-442c-9483-65476630511f",
   "metadata": {},
   "source": [
    " \n",
    "9. What will be the output of the following code?\n",
    "```python\n",
    "a = 4\n",
    "b = 2\n",
    "print(a // b)\n",
    "```\n",
    "- 1.5\n",
    "- **2**\n",
    "- 2.0\n",
    "- 2.5"
   ]
  },
  {
   "cell_type": "code",
   "execution_count": 7,
   "id": "0fa7b98e-7049-49e0-9eed-f7ca2668bddf",
   "metadata": {},
   "outputs": [
    {
     "name": "stdout",
     "output_type": "stream",
     "text": [
      "2\n"
     ]
    }
   ],
   "source": [
    "a = 4\n",
    "b = 2\n",
    "print(a // b)"
   ]
  },
  {
   "cell_type": "markdown",
   "id": "04ade831-2d93-4e99-95ba-1227050c8267",
   "metadata": {},
   "source": [
    " \n",
    "10. Which of the following expressions evaluates to True?\n",
    "\n",
    "- `5 < 2`\n",
    "- `5 > 10`\n",
    "- **`5 == 5`**\n",
    "- 5 != 5"
   ]
  },
  {
   "cell_type": "code",
   "execution_count": 8,
   "id": "ec81e801-26fe-4e5b-ba53-3cfc84e7d457",
   "metadata": {},
   "outputs": [
    {
     "name": "stdout",
     "output_type": "stream",
     "text": [
      "False\n",
      "False\n",
      "True\n",
      "False\n"
     ]
    }
   ],
   "source": [
    "print(5 < 2)\n",
    "print(5 > 10)\n",
    "print(5 == 5)\n",
    "print(5 != 5)"
   ]
  },
  {
   "cell_type": "markdown",
   "id": "ca3ca3f7-2b63-48ef-8df0-61caa0a5be6f",
   "metadata": {},
   "source": [
    "[BONUS] Can you solve this question WITHOUT running code from your machine?\n",
    "```python\n",
    "a, b = '12' # so a = '1' and b = '2'\n",
    "b, c = '34' # now b = '3' and c = '4'\n",
    "print(a + b + c) # '1' + '3' + '4' => '134'\n",
    "```\n",
    "- StringError\n",
    "- 1234\n",
    "- SyntaxError\n",
    "- 134"
   ]
  },
  {
   "cell_type": "code",
   "execution_count": null,
   "id": "dff2c586-5f18-4955-9684-0711bb4ee1b7",
   "metadata": {},
   "outputs": [],
   "source": []
  }
 ],
 "metadata": {
  "kernelspec": {
   "display_name": "Python 3 (ipykernel)",
   "language": "python",
   "name": "python3"
  },
  "language_info": {
   "codemirror_mode": {
    "name": "ipython",
    "version": 3
   },
   "file_extension": ".py",
   "mimetype": "text/x-python",
   "name": "python",
   "nbconvert_exporter": "python",
   "pygments_lexer": "ipython3",
   "version": "3.12.3"
  }
 },
 "nbformat": 4,
 "nbformat_minor": 5
}
