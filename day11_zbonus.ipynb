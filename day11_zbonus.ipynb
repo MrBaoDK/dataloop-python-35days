{
 "cells": [
  {
   "cell_type": "markdown",
   "id": "1a6df5f6-f343-4664-97c5-b16b22ce71dd",
   "metadata": {},
   "source": [
    "# Day 11 _ Bonus\n",
    "\n",
    "[Scored](https://docs.google.com/forms/d/e/1FAIpQLSfRvp_gcDfY-I4wktVTOgVFmxn-bdRzKFOvve7_5mR0129ofQ/viewscore?viewscore=AE0zAgBdwsWUVcM38azTPHE3y_d7xRi4oq5yOP6AK9QuUdKwbStzYZmvza7xHnX4ILLjRIY)"
   ]
  },
  {
   "cell_type": "code",
   "execution_count": 1,
   "id": "b7b42bc8-66d4-4464-bf7c-8d9be28780db",
   "metadata": {},
   "outputs": [
    {
     "name": "stdout",
     "output_type": "stream",
     "text": [
      "85 Good Grade\n",
      "90 Good Grade\n",
      "78 Good Grade\n",
      "92 Good Grade\n",
      "88 Good Grade\n",
      "75 Good Grade\n",
      "98 Good Grade\n",
      "60 Bad Grade\n",
      "82 Good Grade\n",
      "95 Good Grade\n"
     ]
    }
   ],
   "source": [
    "scores= [85, 90, 78, 92, 88, 75, 98, 60, 82, 95]\n",
    "for score in scores:\n",
    "    print(f\"{score} {'Good' if score>=75 else 'Bad'} Grade\")\n"
   ]
  },
  {
   "cell_type": "code",
   "execution_count": 2,
   "id": "c108dbbd-5717-4d88-80d2-f4830daae09d",
   "metadata": {},
   "outputs": [
    {
     "name": "stdout",
     "output_type": "stream",
     "text": [
      "91\n",
      "91\n"
     ]
    }
   ],
   "source": [
    "temp_per_day = [70, 72, 71, 76, 75, 83, 85, 82, 88, 79, 89, 91, 87, 85, 87, 80]\n",
    "#for loop\n",
    "for temp in temp_per_day:\n",
    "    if temp >= 90:\n",
    "        print(temp)\n",
    "#while loop\n",
    "i = 0\n",
    "while i<len(temp_per_day):\n",
    "    if temp_per_day[i]>=90:\n",
    "        print(temp_per_day[i])\n",
    "    i+=1"
   ]
  }
 ],
 "metadata": {
  "kernelspec": {
   "display_name": "Python 3 (ipykernel)",
   "language": "python",
   "name": "python3"
  },
  "language_info": {
   "codemirror_mode": {
    "name": "ipython",
    "version": 3
   },
   "file_extension": ".py",
   "mimetype": "text/x-python",
   "name": "python",
   "nbconvert_exporter": "python",
   "pygments_lexer": "ipython3",
   "version": "3.12.3"
  }
 },
 "nbformat": 4,
 "nbformat_minor": 5
}
