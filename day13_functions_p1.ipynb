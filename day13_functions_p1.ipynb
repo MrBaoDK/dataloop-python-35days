{
 "cells": [
  {
   "cell_type": "markdown",
   "id": "96fe4281-1b1b-46a2-acd3-e1b7b8efdf47",
   "metadata": {},
   "source": [
    "# Day 13 Functions - Part 1"
   ]
  },
  {
   "cell_type": "markdown",
   "id": "2ebddc0a-11f6-4298-bb36-669edef65fec",
   "metadata": {},
   "source": [
    "A function is a block of organized, reusable code that is used to perform a single, related action. Functions provide better modularity for your application and a high degree of code reusing.\n",
    "\n",
    "You can define functions to provide the required functionality. Here are simple rules to define a function in Python:\n",
    "\n",
    "Function blocks begin with the keyword def followed by the function name and parentheses ().\n",
    "\n",
    "Any input parameters or arguments should be placed within these parentheses. You can also define parameters inside these parentheses.\n",
    "\n",
    "The code block within every function starts with a colon : and is indented.\n",
    "\n",
    "The statement return [expression] exits a function, optionally passing back an expression to the caller. A return statement with no arguments is the same as return None."
   ]
  },
  {
   "cell_type": "markdown",
   "id": "c20ea1f6-de27-4964-90d1-71ccbcc33591",
   "metadata": {},
   "source": [
    "## Practices"
   ]
  },
  {
   "cell_type": "code",
   "execution_count": null,
   "id": "29fb83c6-76a5-4b6e-86bb-96ad202b5da1",
   "metadata": {},
   "outputs": [],
   "source": [
    "# 1. What will be the output of the following code?\n",
    "def add(a, b):\n",
    "    return a + b\n",
    "result = add(2, 3) + add(4, 5)\n",
    "print( result)\n",
    "# a. 9\n",
    "# c. 19\n",
    "# d. 23\n",
    "# (b) 14"
   ]
  },
  {
   "cell_type": "code",
   "execution_count": null,
   "id": "9e632951-af3e-42cd-a464-cb8c68a82647",
   "metadata": {},
   "outputs": [],
   "source": [
    "# 2. What will be the output of the following code?\n",
    "def multiply(x, y = 2):\n",
    "    return x * y\n",
    "    \n",
    "result = multiply(3)\n",
    "print( result)\n",
    "# c. 9\n",
    "# d. Error\n",
    "# a. 5\n",
    "# (b) 6"
   ]
  },
  {
   "cell_type": "code",
   "execution_count": null,
   "id": "341239a5-9cd2-47d0-8873-572cf356de3a",
   "metadata": {},
   "outputs": [],
   "source": [
    "# 3. What will be the output of the following code?\n",
    "def func(x, y):\n",
    "    x = x + y\n",
    "    y = x - y\n",
    "    x = x - y\n",
    "    return x, y\n",
    "    \n",
    "result = func(5, 10)\n",
    "print( result)\n",
    "# (b) (10, 5)\n",
    "# a. (5, 10)\n",
    "# c. (15, -5)\n",
    "# d. (0, 0)"
   ]
  },
  {
   "cell_type": "code",
   "execution_count": null,
   "id": "6fde2fc0-2916-4264-b4ca-bcec621b3528",
   "metadata": {},
   "outputs": [],
   "source": [
    "# 4. What will be the output of the following code?\n",
    "def outer():\n",
    "    x = 5\n",
    "    def inner():\n",
    "        nonlocal x\n",
    "        x = 10\n",
    "    inner()\n",
    "    return x\n",
    "\n",
    "result = outer()\n",
    "print( result)\n",
    "# (b) 10\n",
    "# a. 5\n",
    "# c. None\n",
    "# d. Error"
   ]
  },
  {
   "cell_type": "code",
   "execution_count": null,
   "id": "6cda43c0-127c-40c4-b9c9-1c957fcac8aa",
   "metadata": {},
   "outputs": [],
   "source": [
    "# 5.   What will be the output of the following code?\n",
    "def func(a, b=5, c=10):\n",
    "    return a + b + c\n",
    "\n",
    "result = func(1, c=2)\n",
    "print( result)\n",
    "# (a) 8\n",
    "# d. 16\n",
    "# b. 12\n",
    "# c. 14"
   ]
  },
  {
   "cell_type": "code",
   "execution_count": null,
   "id": "21791f03-30fc-499d-b394-afb802823d82",
   "metadata": {},
   "outputs": [],
   "source": [
    "# 6. What will be the output of the following code?\n",
    "def func(a, b, *args):\n",
    "    return a + b + sum(args)\n",
    "    \n",
    "result = func(1, 2, 3, 4, 5)\n",
    "print( result)\n",
    "# b. 6\n",
    "# (d) 15\n",
    "# c. 10\n",
    "# a. 3"
   ]
  },
  {
   "cell_type": "code",
   "execution_count": null,
   "id": "3a920bf6-42cf-4a8e-8c2f-01c39945bacb",
   "metadata": {},
   "outputs": [],
   "source": [
    "# 7.  What will be the output of the following code?\n",
    "def func7(a, b, **kwargs):\n",
    "    return a + b + kwargs['c']\n",
    "    \n",
    "result = func(1, 2, c=3)\n",
    "print( result)\n",
    "# a. 3\n",
    "# c. 9\n",
    "# (b) 6\n",
    "# d. Error"
   ]
  },
  {
   "cell_type": "code",
   "execution_count": null,
   "id": "5b5579a0-9b17-4651-8229-18616cd174d9",
   "metadata": {},
   "outputs": [],
   "source": [
    "# 8. What will be the output of the following code?\n",
    "def func(a, b=2, c=3):\n",
    "    return a + b + c\n",
    "\n",
    "result = func(c=5, a=1)\n",
    "print( result)\n",
    "# b. 6\n",
    "# d. 10\n",
    "# (c) 8\n",
    "# a. 3"
   ]
  },
  {
   "cell_type": "code",
   "execution_count": null,
   "id": "2dcec738-4b48-43e7-92c9-92dafad9e6fe",
   "metadata": {},
   "outputs": [],
   "source": [
    "# 9. What will be the output of the following code?\n",
    "def func(a, b, c=1):\n",
    "    return a * b * c\n",
    "\n",
    "result = func(2, 3)\n",
    "print( result)\n",
    "# (b) 6\n",
    "# d. 12\n",
    "# c. 9\n",
    "# a. 5"
   ]
  },
  {
   "cell_type": "code",
   "execution_count": null,
   "id": "24e23c08-b99f-4ec1-bddf-34685cfe5f1c",
   "metadata": {},
   "outputs": [],
   "source": [
    "# 10. What will be the output of the following code?\n",
    "def func(a, b=0):\n",
    "    return a - b\n",
    "\n",
    "result = func(b=2, a=5)\n",
    "print(result)\n",
    "# c. 5\n",
    "# (b) 3\n",
    "# d. 7\n",
    "# a. -3"
   ]
  }
 ],
 "metadata": {
  "kernelspec": {
   "display_name": "Python 3 (ipykernel)",
   "language": "python",
   "name": "python3"
  },
  "language_info": {
   "codemirror_mode": {
    "name": "ipython",
    "version": 3
   },
   "file_extension": ".py",
   "mimetype": "text/x-python",
   "name": "python",
   "nbconvert_exporter": "python",
   "pygments_lexer": "ipython3",
   "version": "3.12.3"
  }
 },
 "nbformat": 4,
 "nbformat_minor": 5
}
