{
 "cells": [
  {
   "cell_type": "markdown",
   "id": "e011b4d2-088a-463f-981e-08bd787d1f95",
   "metadata": {},
   "source": [
    "# Day 5 Data Types - Part 3"
   ]
  },
  {
   "cell_type": "markdown",
   "id": "59de08a6-0a6d-4f46-a948-94028d9902e8",
   "metadata": {},
   "source": [
    "## Tuples\n",
    "A tuple in Python is similar to a list in that it is an ordered collection of items. However, tuples are defined by enclosing a comma-separated sequence of items in parentheses ().\n",
    "\n",
    "Unlike lists, tuples are immutable, which means you cannot add, remove, or change items after the tuple is created. This can be useful in situations where you want to ensure that the collection of items remains constant throughout the program.\n",
    "\n",
    "Although you can't modify a tuple, you can concatenate tuples to form a new tuple, or multiply a tuple by an integer to form a new tuple that repeats the original tuple's items."
   ]
  },
  {
   "cell_type": "markdown",
   "id": "7aa88895-008b-42e1-ba39-b77f0c00709a",
   "metadata": {},
   "source": [
    "## Sets\n",
    "A set in Python is an unordered collection of unique items. Sets are defined by enclosing a comma-separated sequence of items in curly braces {}.\n",
    "\n",
    "\n",
    "Note that sets are unordered, which means that the order in which items are added to a set is not necessarily the same order in which they are iterated.\n",
    "\n",
    "Unlike lists and tuples, sets cannot contain duplicate items. If you try to add a duplicate item to a set, it will be ignored.\n",
    "\n",
    "Sets are mutable, which means you can add and remove items from a set. However, because sets are unordered, they do not support indexing or slicing.\n",
    "\n",
    "Python provides a variety of operations to perform on sets, such as union (|), intersection (&), difference (-), and symmetric difference (^)."
   ]
  },
  {
   "cell_type": "markdown",
   "id": "9e37bf31-f0c6-42f4-a9bb-f92e6fb2898b",
   "metadata": {},
   "source": [
    "## Practices"
   ]
  },
  {
   "cell_type": "markdown",
   "id": "475127e8-72ee-4220-8a94-8e8c84f110ad",
   "metadata": {},
   "source": [
    "1. What will be the output of the following code?\n",
    "```python\n",
    "my_tuple = (1, 2, 3)\n",
    "print(my_tuple[1])\n",
    "```\n",
    "- a. 1\n",
    "- **b. 2**\n",
    "- d. Error\n",
    "- c. 3"
   ]
  },
  {
   "cell_type": "code",
   "execution_count": 1,
   "id": "192e2b62-f762-4a9d-ace5-77179df74720",
   "metadata": {},
   "outputs": [
    {
     "name": "stdout",
     "output_type": "stream",
     "text": [
      "2\n"
     ]
    }
   ],
   "source": [
    "my_tuple = (1, 2, 3)\n",
    "print(my_tuple[1])"
   ]
  },
  {
   "cell_type": "markdown",
   "id": "54beef55-f470-4caf-b85c-18e96312eab6",
   "metadata": {},
   "source": [
    "2. Which method can be used to add an element to a set in Python?\n",
    "- `append()`\n",
    "- `extend()`\n",
    "- `insert()`\n",
    "- **`add()`**\n",
    "\n",
    "3. How do you create an empty tuple in Python?\n",
    "- None of the above\n",
    "- `{}`\n",
    "- **`()`**\n",
    "- `[]`\n",
    "\n",
    "4. What is the result of the following code?\n",
    "```python\n",
    "my_set = {1, 2, 3, 4}\n",
    "my_set.add(5)\n",
    "print(my_set)\n",
    "```\n",
    "- **`{1, 2, 3, 4, 5}`**\n",
    "- `{1, 2, 3, 5}`\n",
    "- `{1, 2, 3, 4}`\n",
    "- `{5, 4, 3, 2, 1}`"
   ]
  },
  {
   "cell_type": "code",
   "execution_count": 2,
   "id": "196177e7-214f-4567-bd77-f76819dfcc7c",
   "metadata": {},
   "outputs": [
    {
     "name": "stdout",
     "output_type": "stream",
     "text": [
      "{1, 2, 3, 4, 5}\n"
     ]
    }
   ],
   "source": [
    "my_set = {1, 2, 3, 4}\n",
    "my_set.add(5)\n",
    "print(my_set)"
   ]
  },
  {
   "cell_type": "markdown",
   "id": "7d4781c5-1897-4569-8afd-614f6b79465a",
   "metadata": {},
   "source": [
    "5. Which of the following statements about tuples is true?\n",
    "- Tuples can only contain integers.\n",
    "- Tuples are mutable.\n",
    "- Tuples do not allow duplicate elements.\n",
    "- **Tuples are ordered collections.**\n",
    "\n",
    "6. What will be the output of the following code?\n",
    "```python\n",
    "my_tuple = (1, 2, (3, 4), 5)\n",
    "print(my_tuple[2][1])\n",
    "```\n",
    "- 2\n",
    "- 5\n",
    "- **4**\n",
    "- 3"
   ]
  },
  {
   "cell_type": "code",
   "execution_count": 3,
   "id": "4d7e0cb7-c1d2-4bcc-91bd-8394aeb3008c",
   "metadata": {},
   "outputs": [
    {
     "name": "stdout",
     "output_type": "stream",
     "text": [
      "4\n"
     ]
    }
   ],
   "source": [
    "my_tuple = (1, 2, (3, 4), 5)\n",
    "print(my_tuple[2][1])"
   ]
  },
  {
   "cell_type": "markdown",
   "id": "59ed9db1-c13a-4bfe-96f3-bb273f4cbffa",
   "metadata": {},
   "source": [
    "7. Given the following list, what will be the output after executing the code?\n",
    "```python\n",
    "my_set\n",
    "my_set.update([4, 5], {6, 7})\n",
    "print(my_set)\n",
    "```\n",
    "- **`{1, 2, 3, 4, 5, 6, 7}`**\n",
    "- `{1, 2, 3, 4}`\n",
    "- `{4, 5, 6, 7}`\n",
    "- `{1, 2, 3, [4, 5], {6, 7}}`"
   ]
  },
  {
   "cell_type": "code",
   "execution_count": 4,
   "id": "dd8b25b7-acc3-4ee4-b9fe-4af4a02c9f0c",
   "metadata": {},
   "outputs": [
    {
     "name": "stdout",
     "output_type": "stream",
     "text": [
      "{1, 2, 3, 4, 5, 6, 7}\n"
     ]
    }
   ],
   "source": [
    "my_set\n",
    "my_set.update([4, 5], {6, 7})\n",
    "print(my_set)"
   ]
  },
  {
   "cell_type": "markdown",
   "id": "bb262207-8813-4173-a85d-2b89b2d8b4e2",
   "metadata": {},
   "source": [
    "8. What will be the result of the following code?\n",
    "```python\n",
    "my_set = {1, 2, 3, 4}\n",
    "my_set.remove(3)\n",
    "print(my_set)\n",
    "```\n",
    "- `{1, 2, 3, 4}`\n",
    "- `{1, 2, 3}`\n",
    "- `{2, 4}`\n",
    "- **`{1, 2, 4}`**"
   ]
  },
  {
   "cell_type": "code",
   "execution_count": 6,
   "id": "115bdce4-55c6-4556-b424-8b00a7a5fad7",
   "metadata": {},
   "outputs": [
    {
     "name": "stdout",
     "output_type": "stream",
     "text": [
      "{1, 2, 4}\n"
     ]
    }
   ],
   "source": [
    "my_set = {1, 2, 3, 4}\n",
    "my_set.remove(3)\n",
    "print(my_set)"
   ]
  },
  {
   "cell_type": "markdown",
   "id": "ead219c2-2d9b-40dd-9d9f-40b54a1b2ef1",
   "metadata": {},
   "source": [
    "9. What will be the output of the following code?\n",
    "```python\n",
    "my_tuple = (1, 2, 3, 4)\n",
    "my_tuple = my_tuple + (5, 6)\n",
    "print(my_tuple)\n",
    "```\n",
    "- `(1, 2, 3, 4)`\n",
    "- **`(1, 2, 3, 4, 5, 6)`**\n",
    "- `(5, 6)`\n",
    "- `(1, 2, 3, 4, (5, 6))`"
   ]
  },
  {
   "cell_type": "code",
   "execution_count": 7,
   "id": "1821a277-88e9-4ebb-b032-bfcc1b9d50ad",
   "metadata": {},
   "outputs": [
    {
     "name": "stdout",
     "output_type": "stream",
     "text": [
      "(1, 2, 3, 4, 5, 6)\n"
     ]
    }
   ],
   "source": [
    "my_tuple = (1, 2, 3, 4)\n",
    "my_tuple = my_tuple + (5, 6)\n",
    "print(my_tuple)"
   ]
  },
  {
   "cell_type": "markdown",
   "id": "56da05b8-23d1-45b5-9b1c-8b6263357330",
   "metadata": {},
   "source": [
    "10. How do you check if an element exists in a set in Python?\n",
    "- **`if my_set.contains(element)`**\n",
    "- `if my_set.has(element)`\n",
    "- `if element in my_set`\n",
    "- `if element not in my_set`"
   ]
  },
  {
   "cell_type": "code",
   "execution_count": null,
   "id": "218c4634-4bbc-4d47-84d2-02fa2c75c84c",
   "metadata": {},
   "outputs": [],
   "source": []
  }
 ],
 "metadata": {
  "kernelspec": {
   "display_name": "Python 3 (ipykernel)",
   "language": "python",
   "name": "python3"
  },
  "language_info": {
   "codemirror_mode": {
    "name": "ipython",
    "version": 3
   },
   "file_extension": ".py",
   "mimetype": "text/x-python",
   "name": "python",
   "nbconvert_exporter": "python",
   "pygments_lexer": "ipython3",
   "version": "3.12.3"
  }
 },
 "nbformat": 4,
 "nbformat_minor": 5
}
