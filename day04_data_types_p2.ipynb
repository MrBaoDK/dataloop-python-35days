{
 "cells": [
  {
   "cell_type": "markdown",
   "id": "7d0a6f68-4503-4d88-a559-e7f4ff44d42c",
   "metadata": {},
   "source": [
    "# Day 4 Data Types - Part 2"
   ]
  },
  {
   "cell_type": "markdown",
   "id": "c3780a86-4405-47b6-bb36-ad02038b1751",
   "metadata": {},
   "source": [
    "## Strings\n",
    "In Python, and in programming in general, we often need to work with text. This is where the string data type comes into play.\n",
    "\n",
    "In Python, the string (str) data type is used to represent text. A string is a sequence of characters enclosed in either single quotes ('), double quotes (\"), or triple quotes (''' or \"\"\")."
   ]
  },
  {
   "cell_type": "markdown",
   "id": "cd73bdb3-e3f4-4379-b4d0-8a087d838e20",
   "metadata": {},
   "source": [
    "## Lists\n",
    "A list in Python is an ordered collection of items that can be of any type. Lists are defined by enclosing a comma-separated sequence of items in square brackets [].\n",
    "\n",
    "`fruits = ['apple', 'banana', 'cherry']`\n",
    "\n",
    "`numbers = [1, 2, 3, 4, 5]`\n",
    "\n",
    "`mixed = [1, 'apple', True, 3.14]`\n",
    "\n",
    "Each item in the list has an assigned index value starting from 0. Access to the list items is done via these indices.\n",
    "\n",
    "Lists are mutable, which means you can add, remove, or change items after the list is created.\n",
    "\n",
    "Python provides a variety of functions and methods to manipulate lists, such as appending an item, extending the list, inserting an item at a specific index, removing an item, sorting the list, and so on.\n",
    "\n",
    "In addition to these, Python provides several other operations that can be performed on lists, such as slicing (to get a subset of the list), concatenation (to join two lists), and repetition (to create a new list by repeating an existing list a certain number of times)."
   ]
  },
  {
   "cell_type": "markdown",
   "id": "3af0f544-f73a-451e-bccd-87739909f1ff",
   "metadata": {},
   "source": [
    "## Practices"
   ]
  },
  {
   "cell_type": "markdown",
   "id": "81d75274-d612-45c9-a361-f47326345a2c",
   "metadata": {},
   "source": [
    "1. What will be the output of the following code?\n",
    "```python\n",
    "s = \"Python Programming\"\n",
    "print(s[7:18])\n",
    "```\n",
    "- **Programming**\n",
    "- rogramming\n",
    "- Programmin\n",
    "- Python Pro"
   ]
  },
  {
   "cell_type": "code",
   "execution_count": 1,
   "id": "73e19abe-c65e-4753-9e28-278277dc9506",
   "metadata": {},
   "outputs": [
    {
     "name": "stdout",
     "output_type": "stream",
     "text": [
      "Programming\n"
     ]
    }
   ],
   "source": [
    "s = \"Python Programming\"\n",
    "print(s[7:18])"
   ]
  },
  {
   "cell_type": "markdown",
   "id": "e795344d-a996-4443-b8fe-107fa16a960f",
   "metadata": {},
   "source": [
    "2. Which method would you use to add an element to the end of a list in Python?\n",
    "- `append()`\n",
    "- `insert()`\n",
    "- **`add()`**\n",
    "- `extend()`\n",
    "\n",
    "3. What will be the output of the following code?\n",
    "```python\n",
    "s = \"hello\"\n",
    "print(s.capitalize())\n",
    "```\n",
    "- hello\n",
    "- HELLO\n",
    "- **Hello**\n",
    "- HellO"
   ]
  },
  {
   "cell_type": "code",
   "execution_count": 2,
   "id": "008babdd-6e5c-4f69-ae08-91a2afc8bd07",
   "metadata": {},
   "outputs": [
    {
     "name": "stdout",
     "output_type": "stream",
     "text": [
      "Hello\n"
     ]
    }
   ],
   "source": [
    "s = \"hello\"\n",
    "print(s.capitalize())"
   ]
  },
  {
   "cell_type": "markdown",
   "id": "2a2c3e27-f23d-4749-a3a9-d57c7d1e0bcd",
   "metadata": {},
   "source": [
    "4. How can you convert the list ['a', 'b', 'c'] into a string \"a,b,c\"?\n",
    "- `str(['a', 'b', 'c'])`\n",
    "- `\"a\" + \"b\" + \"c\"`\n",
    "- `\"a,b,c\".split()`\n",
    "- **`\",\".join(['a', 'b', 'c'])`**\n",
    "\n",
    "5. Which of the following methods removes the last element from a list?\n",
    "- `remove()`\n",
    "- `pop()`\n",
    "- `discard()`\n",
    "- `delete()`\n",
    "\n",
    "6. What will be the output of the following code?\n",
    "```python\n",
    "s = \"Python\"\n",
    "print(s[-3:])\n",
    "```\n",
    "- tho\n",
    "- Pyt\n",
    "- **hon**\n",
    "- yth"
   ]
  },
  {
   "cell_type": "code",
   "execution_count": 3,
   "id": "dacab717-7898-4bee-9831-ef0c37bb78ac",
   "metadata": {},
   "outputs": [
    {
     "name": "stdout",
     "output_type": "stream",
     "text": [
      "hon\n"
     ]
    }
   ],
   "source": [
    "s = \"Python\"\n",
    "print(s[-3:])"
   ]
  },
  {
   "cell_type": "markdown",
   "id": "0b4dd6ee-5347-46b5-aef5-ec1678b1644b",
   "metadata": {},
   "source": [
    "7. Given the following list, what will be the output after executing the code?\n",
    "```python\n",
    "my_list = [1, 2, 3, 4, 5]\n",
    "my_list[1:4] = [10, 20, 30]\n",
    "```\n",
    "- `[1, 2, 10, 20, 30, 4, 5]`\n",
    "- `[1, 10, 20, 30, 4, 5]`\n",
    "- `[10, 20, 30, 4, 5]`\n",
    "- **`[1, 10, 20, 30, 5]`**"
   ]
  },
  {
   "cell_type": "code",
   "execution_count": 4,
   "id": "02b47d10-eb12-4eea-be85-0618752800aa",
   "metadata": {},
   "outputs": [
    {
     "name": "stdout",
     "output_type": "stream",
     "text": [
      "[1, 10, 20, 30, 5]\n"
     ]
    }
   ],
   "source": [
    "my_list = [1, 2, 3, 4, 5]\n",
    "my_list[1:4] = [10, 20, 30]\n",
    "print(my_list)"
   ]
  },
  {
   "cell_type": "markdown",
   "id": "7c64ed4e-2ad8-43bc-8807-2b3db6240c35",
   "metadata": {},
   "source": [
    "8. What will be the output of the following code?\n",
    "```python\n",
    "s = \"Python Programming\"\n",
    "print(s.find(\"Pro\"))\n",
    "```\n",
    "- 10\n",
    "- -1\n",
    "- 0\n",
    "- **7**"
   ]
  },
  {
   "cell_type": "code",
   "execution_count": 5,
   "id": "25e56c9f-ecee-455b-9c8d-7f0ad596f50e",
   "metadata": {},
   "outputs": [
    {
     "name": "stdout",
     "output_type": "stream",
     "text": [
      "7\n"
     ]
    }
   ],
   "source": [
    "s = \"Python Programming\"\n",
    "print(s.find(\"Pro\"))"
   ]
  },
  {
   "cell_type": "markdown",
   "id": "bf5e7ed2-7313-4f60-99da-51404788145e",
   "metadata": {},
   "source": [
    "9. How do you remove all occurrences of 'a' from the list ['a', 'b', 'c', 'a', 'd', 'a']?\n",
    "- **`[x for x in lst if x != 'a']`**\n",
    "- `lst.clear('a')`\n",
    "- `lst.pop('a')`\n",
    "- `lst.remove('a')`\n",
    "\n",
    "10. What will the output of the following code?\n",
    "```python\n",
    "lst = [1, 2, 3, 4, 5]\n",
    "lst.reverse()\n",
    "print(lst)\n",
    "```\n",
    "- `[1, 5, 4, 3, 2]`\n",
    "- `[1, 2, 3, 4, 5]`\n",
    "- `[1, 2, 3, 4, 5, 1]`\n",
    "- **`[5, 4, 3, 2, 1]`**"
   ]
  },
  {
   "cell_type": "code",
   "execution_count": 6,
   "id": "9d465049-8bac-4264-879f-c795f1d604d1",
   "metadata": {},
   "outputs": [
    {
     "name": "stdout",
     "output_type": "stream",
     "text": [
      "[5, 4, 3, 2, 1]\n"
     ]
    }
   ],
   "source": [
    "lst = [1, 2, 3, 4, 5]\n",
    "lst.reverse()\n",
    "print(lst)"
   ]
  },
  {
   "cell_type": "code",
   "execution_count": null,
   "id": "49154116-ef5e-49f8-9c9f-13cae701c3bb",
   "metadata": {},
   "outputs": [],
   "source": []
  }
 ],
 "metadata": {
  "kernelspec": {
   "display_name": "Python 3 (ipykernel)",
   "language": "python",
   "name": "python3"
  },
  "language_info": {
   "codemirror_mode": {
    "name": "ipython",
    "version": 3
   },
   "file_extension": ".py",
   "mimetype": "text/x-python",
   "name": "python",
   "nbconvert_exporter": "python",
   "pygments_lexer": "ipython3",
   "version": "3.12.3"
  }
 },
 "nbformat": 4,
 "nbformat_minor": 5
}
