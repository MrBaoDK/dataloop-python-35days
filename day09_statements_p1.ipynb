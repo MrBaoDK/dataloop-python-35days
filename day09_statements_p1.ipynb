{
 "cells": [
  {
   "cell_type": "markdown",
   "id": "cf9fa37a-5bda-4a7e-9b15-f59bfd4fdedc",
   "metadata": {},
   "source": [
    "# Day 9 Statements - Part 1"
   ]
  },
  {
   "cell_type": "markdown",
   "id": "9a53bdb6-f1f5-4549-976f-ec194fa2983f",
   "metadata": {},
   "source": [
    "- If-else statements are a fundamental control structure that allow your program to make decisions based on certain conditions. This article will introduce you to the basics of if-else statements in Python.\n",
    "\n",
    "- **The if statement is used to test a specific condition. If the condition is true, the block of indented code underneath the if statement will be executed. Here's the basic syntax:**\n",
    "```python\n",
    "if condition:\n",
    "\n",
    "    # code to execute if the condition is true\n",
    "```\n",
    "For example:\n",
    "```python\n",
    "x = 10\n",
    "\n",
    "if x > 5:\n",
    "    print(\"x is greater than 5\")\n",
    "```\n",
    "\n",
    "- In this example, because x is indeed greater than 5, the message \"x is greater than 5\" will be printed to the console.\n",
    "\n",
    "\n",
    "\n",
    "- **The else statement complements the if statement. An else statement contains the block of code that will be executed if the if statement's condition is false. Here's the basic syntax:**\n",
    "\n",
    "```python\n",
    "if condition:\n",
    "    # code to execute if the condition is true\n",
    "else:\n",
    "    # code to execute if the condition is false\n",
    "```\n",
    "For example:\n",
    "```python\n",
    "x = 10\n",
    "\n",
    "if x > 20:\n",
    "    print(\"x is greater than 20\")\n",
    "else:\n",
    "    print(\"x is not greater than 20\")\n",
    "```\n",
    "- In this example, because x is not greater than 20, the message \"x is not greater than 20\" will be printed to the console.\n",
    "\n",
    "- **The elif (short for \"else if\") statement is a combination of else and if. It allows you to check multiple expressions for True and execute a block of code as soon as one of the conditions evaluates to True.**\n",
    "```python\n",
    "if condition1:\n",
    "\n",
    "    # code to execute if condition1 is true\n",
    "elif condition2:\n",
    "\n",
    "    # code to execute if condition2 is true\n",
    "else:\n",
    "    # code to execute if both conditions are false\n",
    "```\n",
    "For example:\n",
    "```python\n",
    "x = 10\n",
    "\n",
    "if x > 20:\n",
    "    print(\"x is greater than 20\")\n",
    "elif x > 5:\n",
    "    print(\"x is greater than 5\")\n",
    "else:\n",
    "    print(\"x is not greater than 5\")\n",
    "```"
   ]
  },
  {
   "cell_type": "markdown",
   "id": "86e6be12-8376-4310-93b8-a704e4e73b07",
   "metadata": {},
   "source": [
    "## Practices"
   ]
  },
  {
   "cell_type": "markdown",
   "id": "ee1dce4b-9e83-43b4-aad6-076ab3c1b92c",
   "metadata": {},
   "source": [
    "1. What will be the output of the following code?\n",
    "```python\n",
    "a = 10\n",
    "b = 20\n",
    "if a > b:\n",
    "    print(\"a is greater than b\")\n",
    "else:\n",
    "    print(\"a is not greater than b\")\n",
    "```\n",
    "- Error\n",
    "- **a is not greater than b**\n",
    "- a is greater than b\n",
    "- None"
   ]
  },
  {
   "cell_type": "code",
   "execution_count": 1,
   "id": "17742eca-f5d2-4dd0-801b-12e4f8c05c0a",
   "metadata": {},
   "outputs": [
    {
     "name": "stdout",
     "output_type": "stream",
     "text": [
      "a is not greater than b\n"
     ]
    }
   ],
   "source": [
    "a = 10\n",
    "b = 20\n",
    "if a > b:\n",
    "    print(\"a is greater than b\")\n",
    "else:\n",
    "    print(\"a is not greater than b\")"
   ]
  },
  {
   "cell_type": "markdown",
   "id": "b2f6b59f-6d9e-4357-af44-89a4ae92f18c",
   "metadata": {},
   "source": [
    "2.  What will be the output of the following code?\n",
    "```python\n",
    "x = 5\n",
    "if x % 2 == 0:\n",
    "    print(\"Even\")\n",
    "else:\n",
    "    print(\"Odd\")\n",
    "```\n",
    "- **Odd**\n",
    "- Error\n",
    "- Even\n",
    "- None"
   ]
  },
  {
   "cell_type": "code",
   "execution_count": 2,
   "id": "662a1ff3-2b03-44bc-8f8b-1f910576a97a",
   "metadata": {},
   "outputs": [
    {
     "name": "stdout",
     "output_type": "stream",
     "text": [
      "Odd\n"
     ]
    }
   ],
   "source": [
    "x = 5\n",
    "if x % 2 == 0:\n",
    "    print(\"Even\")\n",
    "else:\n",
    "    print(\"Odd\")"
   ]
  },
  {
   "cell_type": "markdown",
   "id": "5dca9435-66f1-46e1-aa03-935a93cce941",
   "metadata": {},
   "source": [
    "3.  Which of the following is the correct syntax for a nested if statement?\n",
    "\n",
    "   "
   ]
  },
  {
   "cell_type": "code",
   "execution_count": 4,
   "id": "9975e1e0-caf7-4657-a640-658faf9cb572",
   "metadata": {},
   "outputs": [],
   "source": [
    "x = 3\n",
    "y = 10"
   ]
  },
  {
   "cell_type": "markdown",
   "id": "2563efbb-1ba4-4526-b380-14266feda7c2",
   "metadata": {},
   "source": [
    "- **A** "
   ]
  },
  {
   "cell_type": "code",
   "execution_count": 5,
   "id": "838b00e2-85a2-4a99-bc74-b357d6a05ccb",
   "metadata": {},
   "outputs": [
    {
     "name": "stdout",
     "output_type": "stream",
     "text": [
      "x and y are positive\n"
     ]
    }
   ],
   "source": [
    "    if x > 0:\n",
    "        if y > 0:\n",
    "            print(\"x and y are positive\")"
   ]
  },
  {
   "cell_type": "markdown",
   "id": "20c6090e-9b89-4d8c-a781-5090e22ac77f",
   "metadata": {},
   "source": [
    "- B"
   ]
  },
  {
   "cell_type": "code",
   "execution_count": 6,
   "id": "4bdfe8db-e325-4f06-988d-4f19fcacf104",
   "metadata": {},
   "outputs": [
    {
     "ename": "SyntaxError",
     "evalue": "expected ':' (1931400953.py, line 1)",
     "output_type": "error",
     "traceback": [
      "\u001b[1;36m  Cell \u001b[1;32mIn[6], line 1\u001b[1;36m\u001b[0m\n\u001b[1;33m    if x > 0\u001b[0m\n\u001b[1;37m            ^\u001b[0m\n\u001b[1;31mSyntaxError\u001b[0m\u001b[1;31m:\u001b[0m expected ':'\n"
     ]
    }
   ],
   "source": [
    "    if x > 0\n",
    "        if y > 0\n",
    "            print(\"x and y are positive\")"
   ]
  },
  {
   "cell_type": "markdown",
   "id": "5173888a-0b53-42c1-929a-6340cec875af",
   "metadata": {},
   "source": [
    "- C"
   ]
  },
  {
   "cell_type": "code",
   "execution_count": 7,
   "id": "541b09b3-da62-4741-9098-e72bbf03b343",
   "metadata": {},
   "outputs": [
    {
     "ename": "SyntaxError",
     "evalue": "expected ':' (2046008181.py, line 1)",
     "output_type": "error",
     "traceback": [
      "\u001b[1;36m  Cell \u001b[1;32mIn[7], line 1\u001b[1;36m\u001b[0m\n\u001b[1;33m    if (x > 0)\u001b[0m\n\u001b[1;37m              ^\u001b[0m\n\u001b[1;31mSyntaxError\u001b[0m\u001b[1;31m:\u001b[0m expected ':'\n"
     ]
    }
   ],
   "source": [
    "    if (x > 0)\n",
    "        if (y > 0)\n",
    "            print(\"x and y are positive\")"
   ]
  },
  {
   "cell_type": "markdown",
   "id": "ce18bea3-1ea0-48a7-b8e4-ac7888531b8c",
   "metadata": {},
   "source": [
    "- D"
   ]
  },
  {
   "cell_type": "code",
   "execution_count": 8,
   "id": "9ee9811e-5c76-4b60-acd4-43dcf7f18099",
   "metadata": {},
   "outputs": [
    {
     "ename": "SyntaxError",
     "evalue": "expected ':' (456036471.py, line 2)",
     "output_type": "error",
     "traceback": [
      "\u001b[1;36m  Cell \u001b[1;32mIn[8], line 2\u001b[1;36m\u001b[0m\n\u001b[1;33m    if y > 0\u001b[0m\n\u001b[1;37m            ^\u001b[0m\n\u001b[1;31mSyntaxError\u001b[0m\u001b[1;31m:\u001b[0m expected ':'\n"
     ]
    }
   ],
   "source": [
    "    if x > 0:\n",
    "        if y > 0\n",
    "            print(\"x and y are positive\")"
   ]
  },
  {
   "cell_type": "markdown",
   "id": "b2914316-30e2-47af-815f-0799405bf737",
   "metadata": {},
   "source": [
    "4. What will be the output of the following code?\n",
    "```python\n",
    "a = 15\n",
    "if a % 3 == 0:\n",
    "    if a % 5 == 0:\n",
    "        print(\"Divisible by both 3 and 5\")\n",
    "    else:\n",
    "        print(\"Divisible by 3 but not by 5\")\n",
    "else:\n",
    "    print(\"Not divisible by 3\")\n",
    "```\n",
    "- **Divisible by both 3 and 5**\n",
    "- Not divisible by 3\n",
    "- Divisible by 3 but not by 5\n",
    "- Error"
   ]
  },
  {
   "cell_type": "code",
   "execution_count": 9,
   "id": "e0f1b290-0beb-48d9-adc5-06b2a7eb741c",
   "metadata": {},
   "outputs": [
    {
     "name": "stdout",
     "output_type": "stream",
     "text": [
      "Divisible by both 3 and 5\n"
     ]
    }
   ],
   "source": [
    "a = 15\n",
    "if a % 3 == 0:\n",
    "    if a % 5 == 0:\n",
    "        print(\"Divisible by both 3 and 5\")\n",
    "    else:\n",
    "        print(\"Divisible by 3 but not by 5\")\n",
    "else:\n",
    "    print(\"Not divisible by 3\")"
   ]
  },
  {
   "cell_type": "markdown",
   "id": "6383f72f-424c-4744-9cb9-5b5eb9c60d92",
   "metadata": {},
   "source": [
    "5.  What will be the result of the following code?\n",
    "```python\n",
    "x = 10\n",
    "y = 20\n",
    "if x > 5:\n",
    "    if y < 15:\n",
    "        print(\"x is greater than 5 and y is less than 15\")\n",
    "    else:\n",
    "        print(\"x is greater than 5 and y is not less than 15\")\n",
    "else:\n",
    "    print(\"x is not greater than 5\")\n",
    "```\n",
    "- x is not greater than 5\n",
    "- x is greater than 5 and y is less than 15\n",
    "- **x is greater than 5 and y is not less than 15**\n",
    "- None of the above"
   ]
  },
  {
   "cell_type": "code",
   "execution_count": 10,
   "id": "64dd7e34-5ba4-4b47-af53-e387f57c7edf",
   "metadata": {},
   "outputs": [
    {
     "name": "stdout",
     "output_type": "stream",
     "text": [
      "x is greater than 5 and y is not less than 15\n"
     ]
    }
   ],
   "source": [
    "x = 10\n",
    "y = 20\n",
    "if x > 5:\n",
    "    if y < 15:\n",
    "        print(\"x is greater than 5 and y is less than 15\")\n",
    "    else:\n",
    "        print(\"x is greater than 5 and y is not less than 15\")\n",
    "else:\n",
    "    print(\"x is not greater than 5\")"
   ]
  },
  {
   "cell_type": "markdown",
   "id": "1dec4cf7-2f64-4a5b-bb70-4d5ef9331c5a",
   "metadata": {},
   "source": [
    "6.  What will be the output of the following code?\n",
    "```python\n",
    "x = 30\n",
    "if x > 10:\n",
    "    print(\"x is greater than 10\")\n",
    "    if x > 20:\n",
    "        print(\"x is greater than 20\")\n",
    "    if x > 40:\n",
    "        print(\"x is greater than 40\")\n",
    "else:\n",
    "    print(\"x is 10 or less\")\n",
    "```\n",
    "```css\n",
    "  A. x is greater than 10\n",
    "     x is greater than 20\n",
    "     x is greater than 40\n",
    "```\n",
    "\n",
    "```ps\n",
    "> B. x is greater than 10\n",
    "     x is greater than 20\n",
    "```\n",
    "\n",
    "```css\n",
    "  C. x is greater than 10\n",
    "     x is greater than 40\n",
    "```\n",
    "```css\n",
    "  D. x is 10 or less\n",
    "```"
   ]
  },
  {
   "cell_type": "code",
   "execution_count": 11,
   "id": "8b70db83-9f81-4a5c-a5bf-aa112cbda5b5",
   "metadata": {},
   "outputs": [
    {
     "name": "stdout",
     "output_type": "stream",
     "text": [
      "x is greater than 10\n",
      "x is greater than 20\n"
     ]
    }
   ],
   "source": [
    "x = 30\n",
    "if x > 10:\n",
    "    print(\"x is greater than 10\")\n",
    "    if x > 20:\n",
    "        print(\"x is greater than 20\")\n",
    "    if x > 40:\n",
    "        print(\"x is greater than 40\")\n",
    "else:\n",
    "    print(\"x is 10 or less\")"
   ]
  },
  {
   "cell_type": "markdown",
   "id": "29286e7b-d39d-466c-8329-1edb318fa0f7",
   "metadata": {},
   "source": [
    "7.  What will be the result of the following code?\n",
    "```python\n",
    "x = 25\n",
    "if x % 2 == 0:\n",
    "    print(\"Even number\")\n",
    "elif x % 3 == 0:\n",
    "    print(\"Divisible by 3\")\n",
    "else:\n",
    "    print(\"Neither even nor divisible by 3\")\n",
    "```\n",
    "- **Neither even nor divisible by 3**\n",
    "- Divisible by 3\n",
    "- Error\n",
    "- Even number"
   ]
  },
  {
   "cell_type": "code",
   "execution_count": 12,
   "id": "0c632a55-117d-41b3-b8ab-0c8f1ec7d204",
   "metadata": {},
   "outputs": [
    {
     "name": "stdout",
     "output_type": "stream",
     "text": [
      "Neither even nor divisible by 3\n"
     ]
    }
   ],
   "source": [
    "x = 25\n",
    "if x % 2 == 0:\n",
    "    print(\"Even number\")\n",
    "elif x % 3 == 0:\n",
    "    print(\"Divisible by 3\")\n",
    "else:\n",
    "    print(\"Neither even nor divisible by 3\")"
   ]
  },
  {
   "cell_type": "markdown",
   "id": "19e9cb56-6562-4c60-a0db-26c14a3e3d66",
   "metadata": {},
   "source": [
    "8.  What will be the output of the following code?\n",
    "```python\n",
    "x = 7\n",
    "y = 14\n",
    "if x > y:\n",
    "    print(\"x is greater than y\" )\n",
    "elif x < y:\n",
    "    print(\"x is less than y\")\n",
    "else:\n",
    "    print(\"x is equal to y\")\n",
    "```\n",
    "- x is equal to y\n",
    "- None\n",
    "- **x is less than y**\n",
    "- x is greater than y"
   ]
  },
  {
   "cell_type": "code",
   "execution_count": 13,
   "id": "a4887a57-369c-4991-a53a-175c6ee34d63",
   "metadata": {},
   "outputs": [
    {
     "name": "stdout",
     "output_type": "stream",
     "text": [
      "x is less than y\n"
     ]
    }
   ],
   "source": [
    "x = 7\n",
    "y = 14\n",
    "if x > y:\n",
    "    print(\"x is greater than y\" )\n",
    "elif x < y:\n",
    "    print(\"x is less than y\")\n",
    "else:\n",
    "    print(\"x is equal to y\")"
   ]
  },
  {
   "cell_type": "markdown",
   "id": "21716eeb-ac87-4148-a2bf-e6938694318f",
   "metadata": {},
   "source": [
    "9.  What will be the result of the following code?\n",
    "```python\n",
    "x = 5\n",
    "if x >= 10:\n",
    "    print( \"x is greater than or equal to 10\")\n",
    "elif x > 0:\n",
    "    print(\"x is positive but less than 10\")\n",
    "else:\n",
    "    print(\"x is non-positive\")\n",
    "```\n",
    "- x is non-positive\n",
    "- x is greater than or equal to 10\n",
    "- **x is positive but less than 10**\n",
    "- Error"
   ]
  },
  {
   "cell_type": "code",
   "execution_count": 14,
   "id": "1baa9064-f1ac-470e-9662-4c8d3b6043ad",
   "metadata": {},
   "outputs": [
    {
     "name": "stdout",
     "output_type": "stream",
     "text": [
      "x is positive but less than 10\n"
     ]
    }
   ],
   "source": [
    "x = 5\n",
    "if x >= 10:\n",
    "    print( \"x is greater than or equal to 10\")\n",
    "elif x > 0:\n",
    "    print(\"x is positive but less than 10\")\n",
    "else:\n",
    "    print(\"x is non-positive\")"
   ]
  },
  {
   "cell_type": "markdown",
   "id": "a53532bc-9a89-4a89-85a8-68d3840ddd15",
   "metadata": {},
   "source": [
    "10.  What will be the output of the following code?\n",
    "```python\n",
    "x = 8\n",
    "if x % 2 == 0:\n",
    "    print(\"Even\")\n",
    "if x % 4 == 0:\n",
    "    print(\"Divisible by 4\")\n",
    "else:\n",
    "    print(\"Odd\"\n",
    "```\n",
    "- A. Even\n",
    "- ```css\n",
    "  > B. Even\n",
    "       Divisible by 4\n",
    "  ```\n",
    "- C. Divisible by 4\n",
    "- D. Odd"
   ]
  },
  {
   "cell_type": "code",
   "execution_count": 16,
   "id": "124d8276-e52d-4031-b993-deee243d3937",
   "metadata": {},
   "outputs": [
    {
     "name": "stdout",
     "output_type": "stream",
     "text": [
      "Even\n",
      "Divisible by 4\n"
     ]
    }
   ],
   "source": [
    "x = 8\n",
    "if x % 2 == 0:\n",
    "    print(\"Even\")\n",
    "if x % 4 == 0:\n",
    "    print(\"Divisible by 4\")\n",
    "else:\n",
    "    print(\"Odd\")"
   ]
  }
 ],
 "metadata": {
  "kernelspec": {
   "display_name": "Python 3 (ipykernel)",
   "language": "python",
   "name": "python3"
  },
  "language_info": {
   "codemirror_mode": {
    "name": "ipython",
    "version": 3
   },
   "file_extension": ".py",
   "mimetype": "text/x-python",
   "name": "python",
   "nbconvert_exporter": "python",
   "pygments_lexer": "ipython3",
   "version": "3.12.3"
  }
 },
 "nbformat": 4,
 "nbformat_minor": 5
}
